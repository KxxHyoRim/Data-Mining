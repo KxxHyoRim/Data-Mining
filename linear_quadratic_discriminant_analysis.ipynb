{
  "nbformat": 4,
  "nbformat_minor": 0,
  "metadata": {
    "colab": {
      "name": "linear_quadratic_discriminant_analysis.ipynb",
      "provenance": [],
      "collapsed_sections": [],
      "authorship_tag": "ABX9TyMgFbr0nRi6lyPJbjt82XF1",
      "include_colab_link": true
    },
    "kernelspec": {
      "name": "python3",
      "display_name": "Python 3"
    },
    "language_info": {
      "name": "python"
    }
  },
  "cells": [
    {
      "cell_type": "markdown",
      "metadata": {
        "id": "view-in-github",
        "colab_type": "text"
      },
      "source": [
        "<a href=\"https://colab.research.google.com/github/KxxHyoRim/Data-Mining/blob/main/linear_quadratic_discriminant_analysis.ipynb\" target=\"_parent\"><img src=\"https://colab.research.google.com/assets/colab-badge.svg\" alt=\"Open In Colab\"/></a>"
      ]
    },
    {
      "cell_type": "code",
      "metadata": {
        "colab": {
          "base_uri": "https://localhost:8080/"
        },
        "id": "iZ53annwGNpC",
        "outputId": "c86bceba-b74f-4b8b-e8bc-df5ec4a940e6"
      },
      "source": [
        "import pandas as pd\n",
        "import numpy as np\n",
        "import matplotlib.pyplot as plt\n",
        "from sklearn.discriminant_analysis import LinearDiscriminantAnalysis\n",
        "from sklearn.discriminant_analysis import QuadraticDiscriminantAnalysis\n",
        "from sklearn.model_selection import train_test_split\n",
        "\n",
        "\n",
        "from google.colab import drive\n",
        "\n",
        "#불러올 파일의 경로를 filename 변수에 저장\n",
        "drive.mount('/content/drive')\n",
        "file_name = '/content/drive/My Drive/Data Mining/student_health_assignment9.csv'"
      ],
      "execution_count": null,
      "outputs": [
        {
          "output_type": "stream",
          "name": "stdout",
          "text": [
            "Drive already mounted at /content/drive; to attempt to forcibly remount, call drive.mount(\"/content/drive\", force_remount=True).\n"
          ]
        }
      ]
    },
    {
      "cell_type": "code",
      "metadata": {
        "colab": {
          "base_uri": "https://localhost:8080/",
          "height": 361
        },
        "id": "qaJtHycAHhyY",
        "outputId": "d208b545-b1e1-42c4-a5a3-293b172944a6"
      },
      "source": [
        "data = pd.read_csv(file,  encoding='cp949')\n",
        "print(data.shape)\n",
        "data.head(1)"
      ],
      "execution_count": null,
      "outputs": [
        {
          "output_type": "stream",
          "name": "stdout",
          "text": [
            "(1125, 25)\n"
          ]
        },
        {
          "output_type": "execute_result",
          "data": {
            "text/html": [
              "<div>\n",
              "<style scoped>\n",
              "    .dataframe tbody tr th:only-of-type {\n",
              "        vertical-align: middle;\n",
              "    }\n",
              "\n",
              "    .dataframe tbody tr th {\n",
              "        vertical-align: top;\n",
              "    }\n",
              "\n",
              "    .dataframe thead th {\n",
              "        text-align: right;\n",
              "    }\n",
              "</style>\n",
              "<table border=\"1\" class=\"dataframe\">\n",
              "  <thead>\n",
              "    <tr style=\"text-align: right;\">\n",
              "      <th></th>\n",
              "      <th>ID</th>\n",
              "      <th>최종가중치</th>\n",
              "      <th>학교ID</th>\n",
              "      <th>도시규모</th>\n",
              "      <th>도시규모별분석용</th>\n",
              "      <th>학년도</th>\n",
              "      <th>광역시도</th>\n",
              "      <th>시도별</th>\n",
              "      <th>학교급별</th>\n",
              "      <th>학교명</th>\n",
              "      <th>공학여부</th>\n",
              "      <th>학년</th>\n",
              "      <th>반</th>\n",
              "      <th>성별</th>\n",
              "      <th>건강검진일</th>\n",
              "      <th>키</th>\n",
              "      <th>몸무게</th>\n",
              "      <th>혈당식전mgdl</th>\n",
              "      <th>총콜레스테롤mgdl</th>\n",
              "      <th>ASTUL</th>\n",
              "      <th>ALTUL</th>\n",
              "      <th>혈색소gdl</th>\n",
              "      <th>간염검사</th>\n",
              "      <th>수축기</th>\n",
              "      <th>이완기</th>\n",
              "    </tr>\n",
              "  </thead>\n",
              "  <tbody>\n",
              "    <tr>\n",
              "      <th>0</th>\n",
              "      <td>Aa011남10101</td>\n",
              "      <td>169.550665</td>\n",
              "      <td>Aa01</td>\n",
              "      <td>대도시/중소도시</td>\n",
              "      <td>특별/광역시</td>\n",
              "      <td>2015</td>\n",
              "      <td>서울</td>\n",
              "      <td>서울특별시교육청</td>\n",
              "      <td>1</td>\n",
              "      <td>서울대도초등학교</td>\n",
              "      <td>남여공학</td>\n",
              "      <td>1</td>\n",
              "      <td>1</td>\n",
              "      <td>남</td>\n",
              "      <td>2015-05-12</td>\n",
              "      <td>125.8</td>\n",
              "      <td>27.3</td>\n",
              "      <td>NaN</td>\n",
              "      <td>NaN</td>\n",
              "      <td>NaN</td>\n",
              "      <td>NaN</td>\n",
              "      <td>NaN</td>\n",
              "      <td>NaN</td>\n",
              "      <td>77</td>\n",
              "      <td>58</td>\n",
              "    </tr>\n",
              "  </tbody>\n",
              "</table>\n",
              "</div>"
            ],
            "text/plain": [
              "            ID       최종가중치  학교ID      도시규모  ... 혈색소gdl  간염검사 수축기 이완기\n",
              "0  Aa011남10101  169.550665  Aa01  대도시/중소도시  ...    NaN   NaN  77  58\n",
              "\n",
              "[1 rows x 25 columns]"
            ]
          },
          "metadata": {},
          "execution_count": 42
        }
      ]
    },
    {
      "cell_type": "code",
      "metadata": {
        "colab": {
          "base_uri": "https://localhost:8080/"
        },
        "id": "XZQFmC8OHlmL",
        "outputId": "dbd56dc9-0772-42db-92a2-3073cd87caf6"
      },
      "source": [
        "grade = data['학년']\n",
        "grade.value_counts()  # 1, 4학년만 있음"
      ],
      "execution_count": null,
      "outputs": [
        {
          "output_type": "execute_result",
          "data": {
            "text/plain": [
              "4    569\n",
              "1    556\n",
              "Name: 학년, dtype: int64"
            ]
          },
          "metadata": {},
          "execution_count": 43
        }
      ]
    },
    {
      "cell_type": "code",
      "metadata": {
        "id": "SotPQrGFHprE"
      },
      "source": [
        "std = pd.DataFrame(data, columns=['수축기', '이완기', '키', '몸무게', '학년'])\n",
        "std = std.dropna()\n",
        "std.isnull().sum()\n",
        "\n",
        "X = std[['키', '몸무게', '수축기', '이완기']].values\n",
        "y = std[['학년']].values\n",
        "\n",
        "# 데이터 분리\n",
        "X_train, X_test, y_train, y_test = train_test_split(X, y,\n",
        "                                                    stratify=y,\n",
        "                                                    random_state=1)\n"
      ],
      "execution_count": null,
      "outputs": []
    },
    {
      "cell_type": "code",
      "metadata": {
        "colab": {
          "base_uri": "https://localhost:8080/"
        },
        "id": "62Be_nupGlYN",
        "outputId": "88986737-894d-4d27-8a7d-8cbb832970ab"
      },
      "source": [
        "clf = LinearDiscriminantAnalysis()\n",
        "clf.fit(X ,y)\n",
        "print(clf.predict (X_test[:5, :]))\n",
        "print(\"score\", clf.score(X_test, y_test))\n"
      ],
      "execution_count": null,
      "outputs": [
        {
          "output_type": "stream",
          "name": "stdout",
          "text": [
            "[4 4 1 4 4]\n",
            "score 0.9680851063829787\n"
          ]
        },
        {
          "output_type": "stream",
          "name": "stderr",
          "text": [
            "/usr/local/lib/python3.7/dist-packages/sklearn/utils/validation.py:985: DataConversionWarning: A column-vector y was passed when a 1d array was expected. Please change the shape of y to (n_samples, ), for example using ravel().\n",
            "  y = column_or_1d(y, warn=True)\n"
          ]
        }
      ]
    },
    {
      "cell_type": "code",
      "metadata": {
        "colab": {
          "base_uri": "https://localhost:8080/"
        },
        "id": "4D5KPVdbG8BC",
        "outputId": "e8c9f850-e2e1-43a9-bdab-d83e99280a61"
      },
      "source": [
        "clf = QuadraticDiscriminantAnalysis()\n",
        "clf.fit(X ,y)\n",
        "print(clf.predict (X_test[:5, :]))\n",
        "print(\"score\", clf.score(X_test, y_test))\n"
      ],
      "execution_count": null,
      "outputs": [
        {
          "output_type": "stream",
          "name": "stdout",
          "text": [
            "[4 4 1 4 4]\n",
            "score 0.9574468085106383\n"
          ]
        },
        {
          "output_type": "stream",
          "name": "stderr",
          "text": [
            "/usr/local/lib/python3.7/dist-packages/sklearn/utils/validation.py:985: DataConversionWarning: A column-vector y was passed when a 1d array was expected. Please change the shape of y to (n_samples, ), for example using ravel().\n",
            "  y = column_or_1d(y, warn=True)\n"
          ]
        }
      ]
    }
  ]
}