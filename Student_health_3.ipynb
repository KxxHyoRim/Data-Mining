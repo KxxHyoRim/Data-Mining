{
  "nbformat": 4,
  "nbformat_minor": 0,
  "metadata": {
    "colab": {
      "name": "Student_health_3.ipynb",
      "provenance": [],
      "collapsed_sections": [],
      "authorship_tag": "ABX9TyNAa0gC737ZMleCJayxTLh+",
      "include_colab_link": true
    },
    "kernelspec": {
      "name": "python3",
      "display_name": "Python 3"
    },
    "language_info": {
      "name": "python"
    }
  },
  "cells": [
    {
      "cell_type": "markdown",
      "metadata": {
        "id": "view-in-github",
        "colab_type": "text"
      },
      "source": [
        "<a href=\"https://colab.research.google.com/github/KxxHyoRim/Data-Mining/blob/main/Student_health_3.ipynb\" target=\"_parent\"><img src=\"https://colab.research.google.com/assets/colab-badge.svg\" alt=\"Open In Colab\"/></a>"
      ]
    },
    {
      "cell_type": "code",
      "metadata": {
        "colab": {
          "base_uri": "https://localhost:8080/"
        },
        "id": "WwQD2Fdp8poO",
        "outputId": "fe8ecf7d-72aa-447d-ccfc-4d53198eb892"
      },
      "source": [
        "import pandas as pd\n",
        "import numpy as np\n",
        "import matplotlib.pyplot as plt\n",
        "from sklearn.linear_model import LogisticRegression\n",
        "\n",
        "from google.colab import drive\n",
        "drive.mount('/content/drive')"
      ],
      "execution_count": 18,
      "outputs": [
        {
          "output_type": "stream",
          "name": "stdout",
          "text": [
            "Drive already mounted at /content/drive; to attempt to forcibly remount, call drive.mount(\"/content/drive\", force_remount=True).\n"
          ]
        }
      ]
    },
    {
      "cell_type": "code",
      "metadata": {
        "colab": {
          "base_uri": "https://localhost:8080/",
          "height": 210
        },
        "id": "0sVI0bRz9I9C",
        "outputId": "11cf5d9c-ebd8-4be9-ba9c-660494dfa66f"
      },
      "source": [
        "file_name = '/content/drive/My Drive/Data Mining/student_health_3.csv'\n",
        "df = pd.read_csv(file_name, encoding='cp949')\n",
        "\n",
        "df.head(3)"
      ],
      "execution_count": 19,
      "outputs": [
        {
          "output_type": "execute_result",
          "data": {
            "text/html": [
              "<div>\n",
              "<style scoped>\n",
              "    .dataframe tbody tr th:only-of-type {\n",
              "        vertical-align: middle;\n",
              "    }\n",
              "\n",
              "    .dataframe tbody tr th {\n",
              "        vertical-align: top;\n",
              "    }\n",
              "\n",
              "    .dataframe thead th {\n",
              "        text-align: right;\n",
              "    }\n",
              "</style>\n",
              "<table border=\"1\" class=\"dataframe\">\n",
              "  <thead>\n",
              "    <tr style=\"text-align: right;\">\n",
              "      <th></th>\n",
              "      <th>ID</th>\n",
              "      <th>최종가중치</th>\n",
              "      <th>학교ID</th>\n",
              "      <th>도시규모</th>\n",
              "      <th>도시규모별분석용</th>\n",
              "      <th>학년도</th>\n",
              "      <th>광역시도</th>\n",
              "      <th>시도별</th>\n",
              "      <th>학교급별</th>\n",
              "      <th>학교명</th>\n",
              "      <th>공학여부</th>\n",
              "      <th>학년</th>\n",
              "      <th>반</th>\n",
              "      <th>성별</th>\n",
              "      <th>건강검진일</th>\n",
              "      <th>키</th>\n",
              "      <th>몸무게</th>\n",
              "      <th>혈당식전mgdl</th>\n",
              "      <th>총콜레스테롤mgdl</th>\n",
              "      <th>ASTUL</th>\n",
              "      <th>ALTUL</th>\n",
              "      <th>혈색소gdl</th>\n",
              "      <th>간염검사</th>\n",
              "      <th>수축기</th>\n",
              "      <th>이완기</th>\n",
              "    </tr>\n",
              "  </thead>\n",
              "  <tbody>\n",
              "    <tr>\n",
              "      <th>0</th>\n",
              "      <td>Aa011남10101</td>\n",
              "      <td>169.550665</td>\n",
              "      <td>Aa01</td>\n",
              "      <td>대도시/중소도시</td>\n",
              "      <td>특별/광역시</td>\n",
              "      <td>2015</td>\n",
              "      <td>서울</td>\n",
              "      <td>서울특별시교육청</td>\n",
              "      <td>1</td>\n",
              "      <td>서울대도초등학교</td>\n",
              "      <td>남여공학</td>\n",
              "      <td>1</td>\n",
              "      <td>1</td>\n",
              "      <td>남</td>\n",
              "      <td>2015-05-12</td>\n",
              "      <td>125.8</td>\n",
              "      <td>27.3</td>\n",
              "      <td>NaN</td>\n",
              "      <td>NaN</td>\n",
              "      <td>NaN</td>\n",
              "      <td>NaN</td>\n",
              "      <td>NaN</td>\n",
              "      <td>NaN</td>\n",
              "      <td>77</td>\n",
              "      <td>58</td>\n",
              "    </tr>\n",
              "    <tr>\n",
              "      <th>1</th>\n",
              "      <td>Aa011남10102</td>\n",
              "      <td>169.550665</td>\n",
              "      <td>Aa01</td>\n",
              "      <td>대도시/중소도시</td>\n",
              "      <td>특별/광역시</td>\n",
              "      <td>2015</td>\n",
              "      <td>서울</td>\n",
              "      <td>서울특별시교육청</td>\n",
              "      <td>1</td>\n",
              "      <td>서울대도초등학교</td>\n",
              "      <td>남여공학</td>\n",
              "      <td>1</td>\n",
              "      <td>1</td>\n",
              "      <td>남</td>\n",
              "      <td>2015-04-22</td>\n",
              "      <td>124.3</td>\n",
              "      <td>25.4</td>\n",
              "      <td>NaN</td>\n",
              "      <td>NaN</td>\n",
              "      <td>NaN</td>\n",
              "      <td>NaN</td>\n",
              "      <td>NaN</td>\n",
              "      <td>NaN</td>\n",
              "      <td>83</td>\n",
              "      <td>51</td>\n",
              "    </tr>\n",
              "    <tr>\n",
              "      <th>2</th>\n",
              "      <td>Aa011남10103</td>\n",
              "      <td>169.550665</td>\n",
              "      <td>Aa01</td>\n",
              "      <td>대도시/중소도시</td>\n",
              "      <td>특별/광역시</td>\n",
              "      <td>2015</td>\n",
              "      <td>서울</td>\n",
              "      <td>서울특별시교육청</td>\n",
              "      <td>1</td>\n",
              "      <td>서울대도초등학교</td>\n",
              "      <td>남여공학</td>\n",
              "      <td>1</td>\n",
              "      <td>1</td>\n",
              "      <td>남</td>\n",
              "      <td>2015-04-21</td>\n",
              "      <td>119.2</td>\n",
              "      <td>23.5</td>\n",
              "      <td>NaN</td>\n",
              "      <td>NaN</td>\n",
              "      <td>NaN</td>\n",
              "      <td>NaN</td>\n",
              "      <td>NaN</td>\n",
              "      <td>NaN</td>\n",
              "      <td>103</td>\n",
              "      <td>65</td>\n",
              "    </tr>\n",
              "  </tbody>\n",
              "</table>\n",
              "</div>"
            ],
            "text/plain": [
              "            ID       최종가중치  학교ID      도시규모  ... 혈색소gdl  간염검사  수축기 이완기\n",
              "0  Aa011남10101  169.550665  Aa01  대도시/중소도시  ...    NaN   NaN   77  58\n",
              "1  Aa011남10102  169.550665  Aa01  대도시/중소도시  ...    NaN   NaN   83  51\n",
              "2  Aa011남10103  169.550665  Aa01  대도시/중소도시  ...    NaN   NaN  103  65\n",
              "\n",
              "[3 rows x 25 columns]"
            ]
          },
          "metadata": {},
          "execution_count": 19
        }
      ]
    },
    {
      "cell_type": "code",
      "metadata": {
        "id": "0H4GZNLY9P5e"
      },
      "source": [
        "x = df[['키', '몸무게', '수축기', '이완기']]"
      ],
      "execution_count": 20,
      "outputs": []
    },
    {
      "cell_type": "code",
      "metadata": {
        "id": "6_O2qrp2-Wm7"
      },
      "source": [
        "y = df['학년']"
      ],
      "execution_count": 21,
      "outputs": []
    },
    {
      "cell_type": "code",
      "metadata": {
        "id": "WiaHlnkd-Z4x"
      },
      "source": [
        "clf = LogisticRegression(random_state=0).fit(x, y)"
      ],
      "execution_count": 22,
      "outputs": []
    },
    {
      "cell_type": "code",
      "metadata": {
        "colab": {
          "base_uri": "https://localhost:8080/"
        },
        "id": "6uBZ8OAs_GWC",
        "outputId": "199ab050-ea5b-4b71-f263-8c8481b3bb7d"
      },
      "source": [
        "print(\"Score : \" , clf.score(x,y))"
      ],
      "execution_count": 23,
      "outputs": [
        {
          "output_type": "stream",
          "name": "stdout",
          "text": [
            "Score :  0.9591111111111111\n"
          ]
        }
      ]
    },
    {
      "cell_type": "code",
      "metadata": {
        "colab": {
          "base_uri": "https://localhost:8080/"
        },
        "id": "7Dzs1O15-kL8",
        "outputId": "47d16180-d577-48d7-866c-e41757d4d0c0"
      },
      "source": [
        "print(\"Predict : \", clf.predict([[77, 58, 125, 27]]))"
      ],
      "execution_count": 27,
      "outputs": [
        {
          "output_type": "stream",
          "name": "stdout",
          "text": [
            "Predict :  [1]\n"
          ]
        }
      ]
    },
    {
      "cell_type": "code",
      "metadata": {
        "colab": {
          "base_uri": "https://localhost:8080/"
        },
        "id": "9S35SK0D_SiB",
        "outputId": "b74be954-83d2-462f-a5b0-a704628bb776"
      },
      "source": [
        "print(\"Predict Probability : \" , clf.predict_proba([[77, 58, 125, 27]]))"
      ],
      "execution_count": 28,
      "outputs": [
        {
          "output_type": "stream",
          "name": "stdout",
          "text": [
            "Predict Probability :  [[1.00000000e+00 1.91957239e-18]]\n"
          ]
        }
      ]
    },
    {
      "cell_type": "code",
      "metadata": {
        "id": "TiUaA2iRDmdC"
      },
      "source": [
        "# 예측해야 하는 데이터가 주어져있지 않아서\n",
        "# csv 파일의 첫번째 학생의 데이터를 predict input으로 집어 넣었습니다.\n",
        "# 그 결과 1학년으로 예측된 값이 나왔습니다."
      ],
      "execution_count": null,
      "outputs": []
    }
  ]
}