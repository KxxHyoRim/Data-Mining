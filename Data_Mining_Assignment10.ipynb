{
  "nbformat": 4,
  "nbformat_minor": 0,
  "metadata": {
    "colab": {
      "name": "Data_Mining_Assignment10.ipynb",
      "provenance": [],
      "collapsed_sections": [],
      "authorship_tag": "ABX9TyOJNsQI95EpOW1JFVc3Whuk",
      "include_colab_link": true
    },
    "kernelspec": {
      "name": "python3",
      "display_name": "Python 3"
    },
    "language_info": {
      "name": "python"
    }
  },
  "cells": [
    {
      "cell_type": "markdown",
      "metadata": {
        "id": "view-in-github",
        "colab_type": "text"
      },
      "source": [
        "<a href=\"https://colab.research.google.com/github/KxxHyoRim/Data-Mining/blob/main/Data_Mining_Assignment10.ipynb\" target=\"_parent\"><img src=\"https://colab.research.google.com/assets/colab-badge.svg\" alt=\"Open In Colab\"/></a>"
      ]
    },
    {
      "cell_type": "code",
      "source": [
        "import pandas as pd\n",
        "from sklearn.model_selection import train_test_split\n",
        "from sklearn.cluster import KMeans\n",
        "\n",
        "\n",
        "#불러올 파일의 경로를 filename 변수에 저장\n",
        "drive.mount('/content/drive')\n",
        "file_name = '/content/drive/My Drive/Data Mining/student_health_3_assignment10.csv'"
      ],
      "metadata": {
        "colab": {
          "base_uri": "https://localhost:8080/"
        },
        "id": "_4MOkZeH7m_5",
        "outputId": "c587ff6c-cb49-4155-b75b-c4150c1ff7e2"
      },
      "execution_count": 230,
      "outputs": [
        {
          "output_type": "stream",
          "name": "stdout",
          "text": [
            "Drive already mounted at /content/drive; to attempt to forcibly remount, call drive.mount(\"/content/drive\", force_remount=True).\n"
          ]
        }
      ]
    },
    {
      "cell_type": "code",
      "source": [
        "data = pd.read_csv(file_name,  encoding='cp949')\n",
        "data.head(1)"
      ],
      "metadata": {
        "colab": {
          "base_uri": "https://localhost:8080/",
          "height": 344
        },
        "id": "0FV7tlcH77xq",
        "outputId": "a1878572-2051-44e3-cb3e-b6521a0beefc"
      },
      "execution_count": 231,
      "outputs": [
        {
          "output_type": "execute_result",
          "data": {
            "text/html": [
              "<div>\n",
              "<style scoped>\n",
              "    .dataframe tbody tr th:only-of-type {\n",
              "        vertical-align: middle;\n",
              "    }\n",
              "\n",
              "    .dataframe tbody tr th {\n",
              "        vertical-align: top;\n",
              "    }\n",
              "\n",
              "    .dataframe thead th {\n",
              "        text-align: right;\n",
              "    }\n",
              "</style>\n",
              "<table border=\"1\" class=\"dataframe\">\n",
              "  <thead>\n",
              "    <tr style=\"text-align: right;\">\n",
              "      <th></th>\n",
              "      <th>ID</th>\n",
              "      <th>최종가중치</th>\n",
              "      <th>학교ID</th>\n",
              "      <th>도시규모</th>\n",
              "      <th>도시규모별분석용</th>\n",
              "      <th>학년도</th>\n",
              "      <th>광역시도</th>\n",
              "      <th>시도별</th>\n",
              "      <th>학교급별</th>\n",
              "      <th>학교명</th>\n",
              "      <th>공학여부</th>\n",
              "      <th>학년</th>\n",
              "      <th>반</th>\n",
              "      <th>성별</th>\n",
              "      <th>건강검진일</th>\n",
              "      <th>키</th>\n",
              "      <th>몸무게</th>\n",
              "      <th>혈당식전mgdl</th>\n",
              "      <th>총콜레스테롤mgdl</th>\n",
              "      <th>ASTUL</th>\n",
              "      <th>ALTUL</th>\n",
              "      <th>혈색소gdl</th>\n",
              "      <th>간염검사</th>\n",
              "      <th>수축기</th>\n",
              "      <th>이완기</th>\n",
              "    </tr>\n",
              "  </thead>\n",
              "  <tbody>\n",
              "    <tr>\n",
              "      <th>0</th>\n",
              "      <td>Aa011남10101</td>\n",
              "      <td>169.550665</td>\n",
              "      <td>Aa01</td>\n",
              "      <td>대도시/중소도시</td>\n",
              "      <td>특별/광역시</td>\n",
              "      <td>2015</td>\n",
              "      <td>서울</td>\n",
              "      <td>서울특별시교육청</td>\n",
              "      <td>1</td>\n",
              "      <td>서울대도초등학교</td>\n",
              "      <td>남여공학</td>\n",
              "      <td>1</td>\n",
              "      <td>1</td>\n",
              "      <td>남</td>\n",
              "      <td>2015-05-12</td>\n",
              "      <td>125.8</td>\n",
              "      <td>27.3</td>\n",
              "      <td>NaN</td>\n",
              "      <td>NaN</td>\n",
              "      <td>NaN</td>\n",
              "      <td>NaN</td>\n",
              "      <td>NaN</td>\n",
              "      <td>NaN</td>\n",
              "      <td>77</td>\n",
              "      <td>58</td>\n",
              "    </tr>\n",
              "  </tbody>\n",
              "</table>\n",
              "</div>"
            ],
            "text/plain": [
              "            ID       최종가중치  학교ID      도시규모  ... 혈색소gdl  간염검사 수축기 이완기\n",
              "0  Aa011남10101  169.550665  Aa01  대도시/중소도시  ...    NaN   NaN  77  58\n",
              "\n",
              "[1 rows x 25 columns]"
            ]
          },
          "metadata": {},
          "execution_count": 231
        }
      ]
    },
    {
      "cell_type": "code",
      "source": [
        "grade = data['학년']\n",
        "grade.value_counts()  # 1, 4학년만 있음"
      ],
      "metadata": {
        "colab": {
          "base_uri": "https://localhost:8080/"
        },
        "id": "cXiX3OgB8Jl8",
        "outputId": "48c6331a-f8ea-452c-c0ef-5341da3f71ed"
      },
      "execution_count": 232,
      "outputs": [
        {
          "output_type": "execute_result",
          "data": {
            "text/plain": [
              "4    569\n",
              "1    556\n",
              "Name: 학년, dtype: int64"
            ]
          },
          "metadata": {},
          "execution_count": 232
        }
      ]
    },
    {
      "cell_type": "code",
      "source": [
        "std = pd.DataFrame(data, columns=['수축기', '이완기', '키', '몸무게', '학년'])\n",
        "std = std.dropna()                    # null 값 처리\n",
        "\n",
        "std.loc[std['학년'] == 1, '학년'] = 1     # 1학년(저학년)을 Class1로 변경\n",
        "std.loc[std['학년'] == 4, '학년'] = 2     # 4학년(고학년)을 Class2로 변경\n",
        "\n",
        "X = std[['키', '몸무게', '수축기', '이완기']].values\n",
        "y = std[['학년']].values\n",
        "\n",
        "# 데이터 분리\n",
        "X_train, X_test, y_train, y_test = train_test_split(X, y,\n",
        "                                                    stratify=y,     # 비율 유지 위함\n",
        "                                                    random_state=1)"
      ],
      "metadata": {
        "id": "7LJqBtdE8LV-"
      },
      "execution_count": 233,
      "outputs": []
    },
    {
      "cell_type": "markdown",
      "source": [
        "### 특정 조건 아래에서, 특정 frame의 값 변경하기 \n",
        "\n",
        "std.loc[std['학년'] == 1, '학년'] = 1     # 1학년(저학년)을 Class1로 변경\n",
        "<br>\n",
        "\n",
        "std.loc[std['학년'] == 4, '학년'] = 2     # 4학년(고학년)을 Class2로 변경"
      ],
      "metadata": {
        "id": "Wuh3PYCZY-33"
      }
    },
    {
      "cell_type": "code",
      "source": [
        "''' K-mean Clustring '''\n",
        "\n",
        "kmeans = KMeans(n_clusters=2, random_state=0).fit(X_train)\n",
        "\n",
        "size = 10\n",
        "print(\"[Train]\")\n",
        "print(y_train[:size, 0])\n",
        "print(kmeans.labels_[:size])\n",
        "\n",
        "print(\"\\n[Test]\")\n",
        "print(kmeans.predict (X_test[:size, :]))\n",
        "print(y_test[:size, 0])"
      ],
      "metadata": {
        "colab": {
          "base_uri": "https://localhost:8080/"
        },
        "id": "MkB5ZNjl8MpP",
        "outputId": "71b3acd1-4761-4f91-acb1-ead786efe7ea"
      },
      "execution_count": 234,
      "outputs": [
        {
          "output_type": "stream",
          "name": "stdout",
          "text": [
            "[Train]\n",
            "[2 2 2 2 1 1 1 2 1 1]\n",
            "[0 0 0 0 1 1 1 1 0 1]\n",
            "\n",
            "[Test]\n",
            "[0 0 1 1 1 0 0 1 0 1]\n",
            "[2 2 1 2 2 2 2 2 2 1]\n"
          ]
        }
      ]
    },
    {
      "cell_type": "code",
      "source": [
        "# ''' Calc Score '''\n",
        "# predict 시 1학년을 0으로 하느냐, 4학년을 0으로 하느냐에 따라\n",
        "# score 결과 값이 변함\n",
        "# 이를 보완하기 위한 코딩을 할 수 있으나, k-mean의 주 목적이 아닌듯 하여 skip\n",
        "# 필요하면 도전해보기\n",
        "\n",
        "# cnt = 0\n",
        "\n",
        "# for i in range(0, len(X_test)):\n",
        "#   cmp1 = kmeans.predict([X_test[i, :]])   # class 0, 1 로 분류됨\n",
        "#   cmp2 = y_test[i, 0]                     # class 1, 2 로 분류됨 \n",
        "#   if (cmp1 == cmp2) or (cmp1[0] == 0 and cmp2 == 2)  : # (1==1) (0==2) 끼리 같은 그룹\n",
        "#     cnt += 1\n",
        "\n",
        "# score = cnt/len(X_test)\n",
        "\n",
        "# print(\"Scroe : \", round(score, 4))"
      ],
      "metadata": {
        "id": "8pOfCREyIXJm"
      },
      "execution_count": 235,
      "outputs": []
    }
  ]
}