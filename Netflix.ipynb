{
  "nbformat": 4,
  "nbformat_minor": 0,
  "metadata": {
    "colab": {
      "name": "Netflix.ipynb",
      "provenance": [],
      "collapsed_sections": [],
      "authorship_tag": "ABX9TyPenIFi2sXT2I9EowFiTpEW",
      "include_colab_link": true
    },
    "kernelspec": {
      "name": "python3",
      "display_name": "Python 3"
    },
    "language_info": {
      "name": "python"
    }
  },
  "cells": [
    {
      "cell_type": "markdown",
      "metadata": {
        "id": "view-in-github",
        "colab_type": "text"
      },
      "source": [
        "<a href=\"https://colab.research.google.com/github/KxxHyoRim/Data-Mining/blob/main/Netflix.ipynb\" target=\"_parent\"><img src=\"https://colab.research.google.com/assets/colab-badge.svg\" alt=\"Open In Colab\"/></a>"
      ]
    },
    {
      "cell_type": "code",
      "metadata": {
        "id": "d9DPmA2ffBVc"
      },
      "source": [
        "import pandas as pd\n",
        "import numpy as np\n",
        "import matplotlib.pyplot as plt"
      ],
      "execution_count": 1,
      "outputs": []
    },
    {
      "cell_type": "markdown",
      "metadata": {
        "id": "u9AOUtbtv8RH"
      },
      "source": [
        "## Google Drive 사용권한"
      ]
    },
    {
      "cell_type": "code",
      "metadata": {
        "colab": {
          "base_uri": "https://localhost:8080/"
        },
        "id": "E550q2hUfGv1",
        "outputId": "c18c46bf-55bf-4109-f061-a22c65e415f3"
      },
      "source": [
        "from google.colab import drive\n",
        "drive.mount('/content/drive')"
      ],
      "execution_count": 2,
      "outputs": [
        {
          "output_type": "stream",
          "name": "stdout",
          "text": [
            "Drive already mounted at /content/drive; to attempt to forcibly remount, call drive.mount(\"/content/drive\", force_remount=True).\n"
          ]
        }
      ]
    },
    {
      "cell_type": "code",
      "metadata": {
        "colab": {
          "base_uri": "https://localhost:8080/",
          "height": 469
        },
        "id": "CKiF347KfVXd",
        "outputId": "3f9f7645-47b7-4e9c-da82-4f29aab40490"
      },
      "source": [
        "#불러올 파일의 경로를 filename 변수에 저장\n",
        "file = '/content/drive/My Drive/Data Mining/netflix.csv'\n",
        "\n",
        "#pandas read_csv로 불러오기\n",
        "df = pd.read_csv(file, encoding='ISO-8859-1')\n",
        "print(df.shape)\n",
        "df.head(3)"
      ],
      "execution_count": 3,
      "outputs": [
        {
          "output_type": "stream",
          "name": "stdout",
          "text": [
            "(5870, 27)\n"
          ]
        },
        {
          "output_type": "execute_result",
          "data": {
            "text/html": [
              "<div>\n",
              "<style scoped>\n",
              "    .dataframe tbody tr th:only-of-type {\n",
              "        vertical-align: middle;\n",
              "    }\n",
              "\n",
              "    .dataframe tbody tr th {\n",
              "        vertical-align: top;\n",
              "    }\n",
              "\n",
              "    .dataframe thead th {\n",
              "        text-align: right;\n",
              "    }\n",
              "</style>\n",
              "<table border=\"1\" class=\"dataframe\">\n",
              "  <thead>\n",
              "    <tr style=\"text-align: right;\">\n",
              "      <th></th>\n",
              "      <th>show_id</th>\n",
              "      <th>type</th>\n",
              "      <th>title</th>\n",
              "      <th>director</th>\n",
              "      <th>cast</th>\n",
              "      <th>country</th>\n",
              "      <th>date_added</th>\n",
              "      <th>release_year</th>\n",
              "      <th>rating</th>\n",
              "      <th>duration</th>\n",
              "      <th>listed_in</th>\n",
              "      <th>description</th>\n",
              "      <th>Unnamed: 12</th>\n",
              "      <th>Unnamed: 13</th>\n",
              "      <th>Unnamed: 14</th>\n",
              "      <th>Unnamed: 15</th>\n",
              "      <th>Unnamed: 16</th>\n",
              "      <th>Unnamed: 17</th>\n",
              "      <th>Unnamed: 18</th>\n",
              "      <th>Unnamed: 19</th>\n",
              "      <th>Unnamed: 20</th>\n",
              "      <th>Unnamed: 21</th>\n",
              "      <th>Unnamed: 22</th>\n",
              "      <th>Unnamed: 23</th>\n",
              "      <th>Unnamed: 24</th>\n",
              "      <th>Unnamed: 25</th>\n",
              "      <th>Unnamed: 26</th>\n",
              "    </tr>\n",
              "  </thead>\n",
              "  <tbody>\n",
              "    <tr>\n",
              "      <th>0</th>\n",
              "      <td>81145628.0</td>\n",
              "      <td>Movie</td>\n",
              "      <td>Norm of the North: King Sized Adventure</td>\n",
              "      <td>Richard Finn, Tim Maltby</td>\n",
              "      <td>Alan Marriott, Andrew Toth, Brian Dobson, Cole...</td>\n",
              "      <td>United States, India, South Korea, China</td>\n",
              "      <td>09-Sep-19</td>\n",
              "      <td>2019</td>\n",
              "      <td>TV-PG</td>\n",
              "      <td>90 min</td>\n",
              "      <td>Children &amp; Family Movies, Comedies</td>\n",
              "      <td>Before planning an awesome wedding for his gra...</td>\n",
              "      <td>NaN</td>\n",
              "      <td>NaN</td>\n",
              "      <td>NaN</td>\n",
              "      <td>NaN</td>\n",
              "      <td>NaN</td>\n",
              "      <td>NaN</td>\n",
              "      <td>NaN</td>\n",
              "      <td>NaN</td>\n",
              "      <td>NaN</td>\n",
              "      <td>NaN</td>\n",
              "      <td>NaN</td>\n",
              "      <td>NaN</td>\n",
              "      <td>NaN</td>\n",
              "      <td>NaN</td>\n",
              "      <td>NaN</td>\n",
              "    </tr>\n",
              "    <tr>\n",
              "      <th>1</th>\n",
              "      <td>80117401.0</td>\n",
              "      <td>Movie</td>\n",
              "      <td>Jandino: Whatever it Takes</td>\n",
              "      <td>NaN</td>\n",
              "      <td>Jandino Asporaat</td>\n",
              "      <td>United Kingdom</td>\n",
              "      <td>09-Sep-16</td>\n",
              "      <td>2016</td>\n",
              "      <td>TV-MA</td>\n",
              "      <td>94 min</td>\n",
              "      <td>Stand-Up Comedy</td>\n",
              "      <td>Jandino Asporaat riffs on the challenges of ra...</td>\n",
              "      <td>NaN</td>\n",
              "      <td>NaN</td>\n",
              "      <td>NaN</td>\n",
              "      <td>NaN</td>\n",
              "      <td>NaN</td>\n",
              "      <td>NaN</td>\n",
              "      <td>NaN</td>\n",
              "      <td>NaN</td>\n",
              "      <td>NaN</td>\n",
              "      <td>NaN</td>\n",
              "      <td>NaN</td>\n",
              "      <td>NaN</td>\n",
              "      <td>NaN</td>\n",
              "      <td>NaN</td>\n",
              "      <td>NaN</td>\n",
              "    </tr>\n",
              "    <tr>\n",
              "      <th>2</th>\n",
              "      <td>70234439.0</td>\n",
              "      <td>TV Show</td>\n",
              "      <td>Transformers Prime</td>\n",
              "      <td>NaN</td>\n",
              "      <td>Peter Cullen, Sumalee Montano, Frank Welker, J...</td>\n",
              "      <td>United States</td>\n",
              "      <td>08-Sep-18</td>\n",
              "      <td>2013</td>\n",
              "      <td>TV-Y7-FV</td>\n",
              "      <td>1 Season</td>\n",
              "      <td>Kids' TV</td>\n",
              "      <td>With the help of three human allies, the Autob...</td>\n",
              "      <td>NaN</td>\n",
              "      <td>NaN</td>\n",
              "      <td>NaN</td>\n",
              "      <td>NaN</td>\n",
              "      <td>NaN</td>\n",
              "      <td>NaN</td>\n",
              "      <td>NaN</td>\n",
              "      <td>NaN</td>\n",
              "      <td>NaN</td>\n",
              "      <td>NaN</td>\n",
              "      <td>NaN</td>\n",
              "      <td>NaN</td>\n",
              "      <td>NaN</td>\n",
              "      <td>NaN</td>\n",
              "      <td>NaN</td>\n",
              "    </tr>\n",
              "  </tbody>\n",
              "</table>\n",
              "</div>"
            ],
            "text/plain": [
              "      show_id     type  ... Unnamed: 25 Unnamed: 26\n",
              "0  81145628.0    Movie  ...         NaN         NaN\n",
              "1  80117401.0    Movie  ...         NaN         NaN\n",
              "2  70234439.0  TV Show  ...         NaN         NaN\n",
              "\n",
              "[3 rows x 27 columns]"
            ]
          },
          "metadata": {},
          "execution_count": 3
        }
      ]
    },
    {
      "cell_type": "markdown",
      "metadata": {
        "id": "pPVJySTIioIQ"
      },
      "source": [
        "## Null 값 가진 Column 제거"
      ]
    },
    {
      "cell_type": "code",
      "metadata": {
        "id": "iugJu-ggfwzv",
        "colab": {
          "base_uri": "https://localhost:8080/",
          "height": 193
        },
        "outputId": "e21ae013-f366-4bcc-a61c-eefb17a2b7af"
      },
      "source": [
        "base_str = 'Unnamed: '\n",
        "\n",
        "for i in range(12 ,26+1):\n",
        "  drop_str = base_str + str(i)\n",
        "  df = df.drop([drop_str], axis=1)\n",
        "\n",
        "df.head(3)"
      ],
      "execution_count": 4,
      "outputs": [
        {
          "output_type": "execute_result",
          "data": {
            "text/html": [
              "<div>\n",
              "<style scoped>\n",
              "    .dataframe tbody tr th:only-of-type {\n",
              "        vertical-align: middle;\n",
              "    }\n",
              "\n",
              "    .dataframe tbody tr th {\n",
              "        vertical-align: top;\n",
              "    }\n",
              "\n",
              "    .dataframe thead th {\n",
              "        text-align: right;\n",
              "    }\n",
              "</style>\n",
              "<table border=\"1\" class=\"dataframe\">\n",
              "  <thead>\n",
              "    <tr style=\"text-align: right;\">\n",
              "      <th></th>\n",
              "      <th>show_id</th>\n",
              "      <th>type</th>\n",
              "      <th>title</th>\n",
              "      <th>director</th>\n",
              "      <th>cast</th>\n",
              "      <th>country</th>\n",
              "      <th>date_added</th>\n",
              "      <th>release_year</th>\n",
              "      <th>rating</th>\n",
              "      <th>duration</th>\n",
              "      <th>listed_in</th>\n",
              "      <th>description</th>\n",
              "    </tr>\n",
              "  </thead>\n",
              "  <tbody>\n",
              "    <tr>\n",
              "      <th>0</th>\n",
              "      <td>81145628.0</td>\n",
              "      <td>Movie</td>\n",
              "      <td>Norm of the North: King Sized Adventure</td>\n",
              "      <td>Richard Finn, Tim Maltby</td>\n",
              "      <td>Alan Marriott, Andrew Toth, Brian Dobson, Cole...</td>\n",
              "      <td>United States, India, South Korea, China</td>\n",
              "      <td>09-Sep-19</td>\n",
              "      <td>2019</td>\n",
              "      <td>TV-PG</td>\n",
              "      <td>90 min</td>\n",
              "      <td>Children &amp; Family Movies, Comedies</td>\n",
              "      <td>Before planning an awesome wedding for his gra...</td>\n",
              "    </tr>\n",
              "    <tr>\n",
              "      <th>1</th>\n",
              "      <td>80117401.0</td>\n",
              "      <td>Movie</td>\n",
              "      <td>Jandino: Whatever it Takes</td>\n",
              "      <td>NaN</td>\n",
              "      <td>Jandino Asporaat</td>\n",
              "      <td>United Kingdom</td>\n",
              "      <td>09-Sep-16</td>\n",
              "      <td>2016</td>\n",
              "      <td>TV-MA</td>\n",
              "      <td>94 min</td>\n",
              "      <td>Stand-Up Comedy</td>\n",
              "      <td>Jandino Asporaat riffs on the challenges of ra...</td>\n",
              "    </tr>\n",
              "    <tr>\n",
              "      <th>2</th>\n",
              "      <td>70234439.0</td>\n",
              "      <td>TV Show</td>\n",
              "      <td>Transformers Prime</td>\n",
              "      <td>NaN</td>\n",
              "      <td>Peter Cullen, Sumalee Montano, Frank Welker, J...</td>\n",
              "      <td>United States</td>\n",
              "      <td>08-Sep-18</td>\n",
              "      <td>2013</td>\n",
              "      <td>TV-Y7-FV</td>\n",
              "      <td>1 Season</td>\n",
              "      <td>Kids' TV</td>\n",
              "      <td>With the help of three human allies, the Autob...</td>\n",
              "    </tr>\n",
              "  </tbody>\n",
              "</table>\n",
              "</div>"
            ],
            "text/plain": [
              "      show_id  ...                                        description\n",
              "0  81145628.0  ...  Before planning an awesome wedding for his gra...\n",
              "1  80117401.0  ...  Jandino Asporaat riffs on the challenges of ra...\n",
              "2  70234439.0  ...  With the help of three human allies, the Autob...\n",
              "\n",
              "[3 rows x 12 columns]"
            ]
          },
          "metadata": {},
          "execution_count": 4
        }
      ]
    },
    {
      "cell_type": "markdown",
      "metadata": {
        "id": "9eQMAuERrL58"
      },
      "source": [
        "## Null 값 가진 Row 제거"
      ]
    },
    {
      "cell_type": "code",
      "metadata": {
        "colab": {
          "base_uri": "https://localhost:8080/"
        },
        "id": "6YSXahRc1sHK",
        "outputId": "165cc271-12ea-4b69-af63-73251c3ed410"
      },
      "source": [
        "df['date_added'].isnull()"
      ],
      "execution_count": 5,
      "outputs": [
        {
          "output_type": "execute_result",
          "data": {
            "text/plain": [
              "0       False\n",
              "1       False\n",
              "2       False\n",
              "3       False\n",
              "4       False\n",
              "        ...  \n",
              "5865     True\n",
              "5866     True\n",
              "5867     True\n",
              "5868     True\n",
              "5869     True\n",
              "Name: date_added, Length: 5870, dtype: bool"
            ]
          },
          "metadata": {},
          "execution_count": 5
        }
      ]
    },
    {
      "cell_type": "code",
      "metadata": {
        "colab": {
          "base_uri": "https://localhost:8080/"
        },
        "id": "AJzjai9m25nW",
        "outputId": "dad4a1fe-4af6-4d6e-8a0f-a3469c557d78"
      },
      "source": [
        "df['date_added']"
      ],
      "execution_count": 6,
      "outputs": [
        {
          "output_type": "execute_result",
          "data": {
            "text/plain": [
              "0       09-Sep-19\n",
              "1       09-Sep-16\n",
              "2       08-Sep-18\n",
              "3       08-Sep-18\n",
              "4       08-Sep-17\n",
              "          ...    \n",
              "5865          NaN\n",
              "5866          NaN\n",
              "5867          NaN\n",
              "5868          NaN\n",
              "5869          NaN\n",
              "Name: date_added, Length: 5870, dtype: object"
            ]
          },
          "metadata": {},
          "execution_count": 6
        }
      ]
    },
    {
      "cell_type": "markdown",
      "metadata": {
        "id": "f1KErnEGrRI2"
      },
      "source": [
        "> 2000 row 부터 null\n"
      ]
    },
    {
      "cell_type": "code",
      "metadata": {
        "colab": {
          "base_uri": "https://localhost:8080/"
        },
        "id": "81XXtbK62_DX",
        "outputId": "c77ed811-5994-492a-82cf-4e2efc1ce362"
      },
      "source": [
        "print(df.loc[1999])\n",
        "print(df.loc[2000]) "
      ],
      "execution_count": 7,
      "outputs": [
        {
          "output_type": "stream",
          "name": "stdout",
          "text": [
            "show_id                                               8.00499e+07\n",
            "type                                                      TV Show\n",
            "title                                              Five Came Back\n",
            "director                                        Laurent Bouzereau\n",
            "cast            Steven Spielberg, Guillermo del Toro, Lawrence...\n",
            "country                                             United States\n",
            "date_added                                              31-Mar-17\n",
            "release_year                                                 2017\n",
            "rating                                                      TV-MA\n",
            "duration                                                 1 Season\n",
            "listed_in                                              Docuseries\n",
            "description     Five acclaimed contemporary directors tell the...\n",
            "Name: 1999, dtype: object\n",
            "show_id         NaN\n",
            "type            NaN\n",
            "title           NaN\n",
            "director        NaN\n",
            "cast            NaN\n",
            "country         NaN\n",
            "date_added      NaN\n",
            "release_year    NaN\n",
            "rating          NaN\n",
            "duration        NaN\n",
            "listed_in       NaN\n",
            "description     NaN\n",
            "Name: 2000, dtype: object\n"
          ]
        }
      ]
    },
    {
      "cell_type": "markdown",
      "metadata": {
        "id": "TxGJPEpPrkpq"
      },
      "source": [
        "위 내용을 보았을때, idx 1999 까지는 올바르게 값이 저장되어 있지만 <br>\n",
        "2000부터 5869까지의 row에는 Null값이 들어가있는 것을 확인"
      ]
    },
    {
      "cell_type": "code",
      "metadata": {
        "id": "zwWn23Rp3_G5"
      },
      "source": [
        "'''Null 값의 Row 제거'''\n",
        "\n",
        "end_idx = df.shape[0]\n",
        "for i in range(2000, end_idx):\n",
        "  df = df.drop(i)"
      ],
      "execution_count": 8,
      "outputs": []
    },
    {
      "cell_type": "code",
      "metadata": {
        "colab": {
          "base_uri": "https://localhost:8080/"
        },
        "id": "oL7KO83E4hci",
        "outputId": "d5660490-244c-4957-e33c-186fae483c66"
      },
      "source": [
        "df.shape"
      ],
      "execution_count": 9,
      "outputs": [
        {
          "output_type": "execute_result",
          "data": {
            "text/plain": [
              "(2000, 12)"
            ]
          },
          "metadata": {},
          "execution_count": 9
        }
      ]
    },
    {
      "cell_type": "code",
      "metadata": {
        "colab": {
          "base_uri": "https://localhost:8080/",
          "height": 289
        },
        "id": "lfgO2CaiG5KH",
        "outputId": "bedc37cf-536c-4942-97b8-ca4f587cf6ce"
      },
      "source": [
        "df.tail()   # 마지막 값들에 null 없음"
      ],
      "execution_count": 10,
      "outputs": [
        {
          "output_type": "execute_result",
          "data": {
            "text/html": [
              "<div>\n",
              "<style scoped>\n",
              "    .dataframe tbody tr th:only-of-type {\n",
              "        vertical-align: middle;\n",
              "    }\n",
              "\n",
              "    .dataframe tbody tr th {\n",
              "        vertical-align: top;\n",
              "    }\n",
              "\n",
              "    .dataframe thead th {\n",
              "        text-align: right;\n",
              "    }\n",
              "</style>\n",
              "<table border=\"1\" class=\"dataframe\">\n",
              "  <thead>\n",
              "    <tr style=\"text-align: right;\">\n",
              "      <th></th>\n",
              "      <th>show_id</th>\n",
              "      <th>type</th>\n",
              "      <th>title</th>\n",
              "      <th>director</th>\n",
              "      <th>cast</th>\n",
              "      <th>country</th>\n",
              "      <th>date_added</th>\n",
              "      <th>release_year</th>\n",
              "      <th>rating</th>\n",
              "      <th>duration</th>\n",
              "      <th>listed_in</th>\n",
              "      <th>description</th>\n",
              "    </tr>\n",
              "  </thead>\n",
              "  <tbody>\n",
              "    <tr>\n",
              "      <th>1995</th>\n",
              "      <td>80170381.0</td>\n",
              "      <td>TV Show</td>\n",
              "      <td>Th Eena Meena Deeka Chase Comedy Show</td>\n",
              "      <td>Dheeraj Berry</td>\n",
              "      <td>Sanjay Keni, Priya Raina</td>\n",
              "      <td>India</td>\n",
              "      <td>31-Mar-18</td>\n",
              "      <td>2015</td>\n",
              "      <td>TV-Y7</td>\n",
              "      <td>1 Season</td>\n",
              "      <td>Kids' TV, TV Comedies</td>\n",
              "      <td>A hungry fox and three resourceful, surprising...</td>\n",
              "    </tr>\n",
              "    <tr>\n",
              "      <th>1996</th>\n",
              "      <td>80142103.0</td>\n",
              "      <td>Movie</td>\n",
              "      <td>Bottom of the World</td>\n",
              "      <td>Richard Sears</td>\n",
              "      <td>Jena Malone, Douglas Smith, Ted Levine, Tamara...</td>\n",
              "      <td>Canada, United States</td>\n",
              "      <td>31-Mar-17</td>\n",
              "      <td>2017</td>\n",
              "      <td>TV-MA</td>\n",
              "      <td>84 min</td>\n",
              "      <td>Dramas, Independent Movies, Thrillers</td>\n",
              "      <td>En route to a fresh start in Los Angeles, youn...</td>\n",
              "    </tr>\n",
              "    <tr>\n",
              "      <th>1997</th>\n",
              "      <td>80179907.0</td>\n",
              "      <td>Movie</td>\n",
              "      <td>Bridget Christie: Stand Up for Her</td>\n",
              "      <td>NaN</td>\n",
              "      <td>Bridget Christie</td>\n",
              "      <td>United Kingdom</td>\n",
              "      <td>31-Mar-17</td>\n",
              "      <td>2016</td>\n",
              "      <td>TV-MA</td>\n",
              "      <td>51 min</td>\n",
              "      <td>Stand-Up Comedy</td>\n",
              "      <td>Performing stand-up for a packed house in Lond...</td>\n",
              "    </tr>\n",
              "    <tr>\n",
              "      <th>1998</th>\n",
              "      <td>80152842.0</td>\n",
              "      <td>Movie</td>\n",
              "      <td>FirstBorn</td>\n",
              "      <td>Nirpal Bhogal</td>\n",
              "      <td>Antonia Thomas, Luke Norris, Thea Petrie, Eile...</td>\n",
              "      <td>United Kingdom</td>\n",
              "      <td>31-Mar-17</td>\n",
              "      <td>2016</td>\n",
              "      <td>TV-MA</td>\n",
              "      <td>90 min</td>\n",
              "      <td>Horror Movies, International Movies</td>\n",
              "      <td>A young couple fights supernatural foes in an ...</td>\n",
              "    </tr>\n",
              "    <tr>\n",
              "      <th>1999</th>\n",
              "      <td>80049928.0</td>\n",
              "      <td>TV Show</td>\n",
              "      <td>Five Came Back</td>\n",
              "      <td>Laurent Bouzereau</td>\n",
              "      <td>Steven Spielberg, Guillermo del Toro, Lawrence...</td>\n",
              "      <td>United States</td>\n",
              "      <td>31-Mar-17</td>\n",
              "      <td>2017</td>\n",
              "      <td>TV-MA</td>\n",
              "      <td>1 Season</td>\n",
              "      <td>Docuseries</td>\n",
              "      <td>Five acclaimed contemporary directors tell the...</td>\n",
              "    </tr>\n",
              "  </tbody>\n",
              "</table>\n",
              "</div>"
            ],
            "text/plain": [
              "         show_id  ...                                        description\n",
              "1995  80170381.0  ...  A hungry fox and three resourceful, surprising...\n",
              "1996  80142103.0  ...  En route to a fresh start in Los Angeles, youn...\n",
              "1997  80179907.0  ...  Performing stand-up for a packed house in Lond...\n",
              "1998  80152842.0  ...  A young couple fights supernatural foes in an ...\n",
              "1999  80049928.0  ...  Five acclaimed contemporary directors tell the...\n",
              "\n",
              "[5 rows x 12 columns]"
            ]
          },
          "metadata": {},
          "execution_count": 10
        }
      ]
    },
    {
      "cell_type": "markdown",
      "metadata": {
        "id": "Y7uqufkgi_af"
      },
      "source": [
        "## 'date_added' Column에서 연도 정보만 추출하기"
      ]
    },
    {
      "cell_type": "code",
      "metadata": {
        "colab": {
          "base_uri": "https://localhost:8080/"
        },
        "id": "yE0b1b9-Jjz5",
        "outputId": "76813c3e-4be5-4276-a9f9-083b8bd716e5"
      },
      "source": [
        "# date_added 는 csv의 'date_added' 값만 가진 새로운 pandas dataframe\n",
        "date_added = df['date_added'][:].values\n",
        "\n",
        "date_added_year = []\n",
        "idx = 0\n",
        "for y in date_added:\n",
        "\n",
        "   #연도 정보 ex. 19 를 가져와서 2000을 더한 뒤 저장\n",
        "  try:\n",
        "    date_added_year.append(int(str(y).split('-')[2]) + 2000)\n",
        "  \n",
        "  #예외값 처리 -> drop\n",
        "  except:     \n",
        "    print(str(idx) + \"행에서 Exception 발생 : '\" + y + \"' 값을 drop합니다\")\n",
        "    df = df.drop(idx)\n",
        "    date_added = np.delete(date_added, idx)\n",
        "\n",
        "  idx += 1\n",
        "\n",
        "print(\"\\nreset index 실행\")\n",
        "df = df.reset_index()  #실행 전 : drop된 row 전체가 index가 유지된 상태로 null로 남아있음"
      ],
      "execution_count": 11,
      "outputs": [
        {
          "output_type": "stream",
          "name": "stdout",
          "text": [
            "767행에서 Exception 발생 : '2019' 값을 drop합니다\n",
            "811행에서 Exception 발생 : '2019' 값을 drop합니다\n",
            "\n",
            "reset index 실행\n"
          ]
        }
      ]
    },
    {
      "cell_type": "code",
      "metadata": {
        "colab": {
          "base_uri": "https://localhost:8080/"
        },
        "id": "QqhPc8mSj9SR",
        "outputId": "50e71ed9-336a-407f-9e7e-12131a13bb9a"
      },
      "source": [
        "#연도 정보만 추출이 된 것을 확인할 수 있다.\n",
        "print(date_added_year)"
      ],
      "execution_count": 12,
      "outputs": [
        {
          "output_type": "stream",
          "name": "stdout",
          "text": [
            "[2019, 2016, 2018, 2018, 2017, 2017, 2017, 2017, 2017, 2017, 2017, 2017, 2017, 2017, 2017, 2017, 2017, 2017, 2017, 2017, 2017, 2017, 2017, 2017, 2017, 2015, 2018, 2018, 2018, 2018, 2018, 2018, 2018, 2017, 2019, 2019, 2019, 2019, 2019, 2019, 2018, 2018, 2017, 2016, 2019, 2018, 2018, 2018, 2018, 2018, 2018, 2018, 2017, 2017, 2017, 2019, 2019, 2019, 2019, 2018, 2018, 2017, 2019, 2018, 2018, 2018, 2018, 2018, 2018, 2018, 2018, 2017, 2017, 2016, 2018, 2018, 2018, 2018, 2017, 2017, 2017, 2017, 2017, 2017, 2017, 2015, 2019, 2019, 2019, 2018, 2018, 2018, 2018, 2018, 2018, 2018, 2018, 2018, 2017, 2019, 2019, 2019, 2019, 2019, 2019, 2019, 2018, 2017, 2011, 2019, 2019, 2019, 2018, 2017, 2017, 2014, 2019, 2019, 2019, 2019, 2019, 2019, 2018, 2017, 2017, 2019, 2019, 2018, 2017, 2017, 2019, 2019, 2019, 2016, 2016, 2019, 2019, 2018, 2018, 2017, 2017, 2015, 2019, 2019, 2019, 2019, 2019, 2018, 2018, 2018, 2018, 2018, 2018, 2018, 2019, 2019, 2019, 2019, 2019, 2019, 2019, 2019, 2019, 2019, 2019, 2018, 2018, 2018, 2016, 2018, 2018, 2017, 2017, 2017, 2016, 2016, 2015, 2019, 2019, 2018, 2018, 2017, 2017, 2016, 2016, 2016, 2016, 2016, 2016, 2019, 2019, 2018, 2017, 2017, 2017, 2017, 2015, 2019, 2019, 2019, 2019, 2019, 2019, 2019, 2018, 2017, 2019, 2018, 2018, 2016, 2016, 2016, 2016, 2016, 2019, 2019, 2019, 2019, 2019, 2019, 2019, 2019, 2019, 2019, 2019, 2018, 2018, 2018, 2018, 2018, 2018, 2018, 2018, 2018, 2018, 2018, 2018, 2018, 2018, 2018, 2018, 2017, 2017, 2017, 2017, 2017, 2017, 2017, 2016, 2016, 2016, 2015, 2019, 2019, 2019, 2018, 2018, 2018, 2018, 2018, 2018, 2018, 2018, 2018, 2018, 2018, 2019, 2019, 2019, 2019, 2019, 2019, 2019, 2019, 2019, 2019, 2019, 2019, 2019, 2018, 2017, 2016, 2019, 2019, 2019, 2018, 2018, 2017, 2017, 2018, 2018, 2018, 2017, 2019, 2019, 2019, 2019, 2019, 2018, 2019, 2019, 2019, 2019, 2019, 2019, 2019, 2019, 2019, 2019, 2019, 2019, 2019, 2019, 2019, 2019, 2019, 2019, 2019, 2019, 2019, 2019, 2019, 2019, 2019, 2019, 2019, 2019, 2019, 2019, 2019, 2019, 2019, 2019, 2018, 2018, 2018, 2018, 2018, 2018, 2018, 2018, 2018, 2018, 2018, 2018, 2018, 2018, 2018, 2018, 2018, 2018, 2018, 2018, 2018, 2018, 2018, 2017, 2017, 2017, 2017, 2017, 2017, 2017, 2017, 2017, 2017, 2017, 2017, 2017, 2017, 2017, 2017, 2017, 2017, 2017, 2017, 2017, 2017, 2017, 2017, 2017, 2017, 2017, 2017, 2017, 2017, 2017, 2017, 2017, 2017, 2017, 2017, 2017, 2017, 2017, 2017, 2017, 2017, 2017, 2016, 2016, 2016, 2016, 2016, 2016, 2016, 2016, 2016, 2016, 2016, 2016, 2016, 2016, 2016, 2016, 2016, 2016, 2016, 2013, 2019, 2019, 2019, 2018, 2018, 2018, 2015, 2019, 2019, 2018, 2019, 2017, 2016, 2016, 2016, 2016, 2019, 2018, 2018, 2017, 2017, 2017, 2019, 2019, 2019, 2018, 2018, 2018, 2018, 2018, 2018, 2018, 2018, 2018, 2019, 2019, 2019, 2019, 2019, 2019, 2018, 2018, 2018, 2018, 2016, 2019, 2019, 2019, 2018, 2018, 2017, 2017, 2017, 2015, 2019, 2019, 2019, 2019, 2018, 2018, 2018, 2018, 2018, 2017, 2019, 2019, 2018, 2018, 2018, 2017, 2017, 2017, 2019, 2019, 2019, 2018, 2016, 2019, 2019, 2018, 2017, 2016, 2016, 2016, 2016, 2016, 2016, 2019, 2018, 2018, 2017, 2017, 2016, 2015, 2019, 2019, 2018, 2018, 2018, 2018, 2018, 2018, 2018, 2018, 2017, 2019, 2019, 2019, 2019, 2019, 2019, 2019, 2019, 2019, 2019, 2019, 2019, 2019, 2019, 2019, 2018, 2018, 2018, 2017, 2017, 2015, 2019, 2019, 2019, 2018, 2018, 2017, 2017, 2014, 2012, 2019, 2019, 2019, 2019, 2018, 2018, 2018, 2017, 2019, 2019, 2019, 2019, 2019, 2019, 2018, 2017, 2017, 2017, 2017, 2017, 2017, 2017, 2015, 2019, 2018, 2017, 2016, 2016, 2014, 2018, 2018, 2017, 2017, 2017, 2017, 2017, 2019, 2019, 2019, 2019, 2019, 2019, 2019, 2019, 2019, 2019, 2019, 2019, 2018, 2018, 2018, 2018, 2018, 2018, 2018, 2018, 2018, 2018, 2018, 2018, 2018, 2018, 2018, 2018, 2017, 2015, 2019, 2019, 2019, 2019, 2018, 2018, 2018, 2018, 2018, 2018, 2018, 2018, 2018, 2018, 2018, 2018, 2018, 2018, 2018, 2017, 2019, 2019, 2019, 2019, 2019, 2019, 2019, 2019, 2019, 2019, 2019, 2019, 2019, 2019, 2019, 2019, 2019, 2019, 2018, 2017, 2019, 2019, 2018, 2017, 2019, 2019, 2019, 2019, 2019, 2019, 2019, 2018, 2017, 2017, 2017, 2017, 2017, 2017, 2017, 2016, 2015, 2015, 2015, 2019, 2019, 2019, 2019, 2019, 2018, 2018, 2018, 2018, 2017, 2017, 2017, 2017, 2017, 2017, 2017, 2017, 2017, 2017, 2017, 2017, 2017, 2017, 2017, 2017, 2017, 2017, 2017, 2017, 2017, 2017, 2017, 2016, 2016, 2016, 2016, 2016, 2016, 2016, 2016, 2016, 2016, 2019, 2017, 2016, 2015, 2013, 2013, 2019, 2019, 2018, 2017, 2017, 2017, 2017, 2017, 2017, 2017, 2016, 2018, 2018, 2018, 2018, 2018, 2018, 2018, 2018, 2018, 2018, 2017, 2017, 2016, 2014, 2019, 2019, 2019, 2019, 2019, 2019, 2018, 2018, 2018, 2018, 2019, 2019, 2018, 2018, 2018, 2017, 2015, 2015, 2014, 2019, 2019, 2019, 2019, 2019, 2019, 2019, 2019, 2019, 2019, 2019, 2019, 2019, 2019, 2019, 2019, 2019, 2019, 2019, 2019, 2019, 2019, 2019, 2019, 2019, 2019, 2019, 2019, 2019, 2019, 2019, 2019, 2019, 2019, 2019, 2019, 2019, 2019, 2019, 2019, 2019, 2019, 2019, 2019, 2019, 2019, 2019, 2019, 2019, 2019, 2019, 2019, 2019, 2019, 2019, 2019, 2019, 2019, 2019, 2019, 2019, 2019, 2019, 2019, 2019, 2019, 2019, 2019, 2019, 2019, 2018, 2018, 2018, 2018, 2018, 2018, 2018, 2018, 2018, 2018, 2018, 2018, 2018, 2018, 2018, 2018, 2018, 2018, 2018, 2018, 2018, 2018, 2018, 2018, 2018, 2018, 2018, 2018, 2018, 2018, 2018, 2018, 2018, 2018, 2018, 2018, 2018, 2018, 2018, 2018, 2018, 2018, 2018, 2018, 2018, 2018, 2018, 2018, 2018, 2018, 2018, 2018, 2018, 2018, 2018, 2018, 2018, 2018, 2018, 2018, 2018, 2018, 2018, 2018, 2018, 2018, 2018, 2018, 2018, 2018, 2018, 2018, 2017, 2017, 2017, 2017, 2017, 2017, 2017, 2017, 2017, 2017, 2017, 2017, 2017, 2017, 2017, 2017, 2017, 2017, 2017, 2017, 2017, 2017, 2017, 2017, 2017, 2017, 2017, 2017, 2017, 2017, 2017, 2017, 2017, 2017, 2017, 2017, 2017, 2017, 2017, 2017, 2017, 2017, 2017, 2017, 2017, 2017, 2016, 2016, 2016, 2016, 2016, 2016, 2016, 2016, 2016, 2016, 2016, 2016, 2016, 2016, 2016, 2016, 2016, 2016, 2016, 2016, 2016, 2016, 2015, 2011, 2011, 2011, 2011, 2011, 2011, 2011, 2011, 2011, 2011, 2011, 2018, 2018, 2018, 2018, 2018, 2018, 2018, 2018, 2018, 2016, 2019, 2019, 2019, 2019, 2019, 2018, 2018, 2018, 2018, 2018, 2018, 2016, 2019, 2018, 2018, 2018, 2017, 2017, 2017, 2014, 2019, 2019, 2019, 2017, 2019, 2019, 2019, 2019, 2019, 2019, 2018, 2018, 2017, 2019, 2019, 2019, 2019, 2019, 2019, 2019, 2019, 2017, 2016, 2016, 2016, 2019, 2019, 2019, 2018, 2018, 2018, 2018, 2018, 2018, 2018, 2018, 2018, 2018, 2018, 2018, 2018, 2018, 2016, 2019, 2018, 2017, 2017, 2019, 2019, 2019, 2019, 2019, 2019, 2019, 2019, 2019, 2019, 2019, 2019, 2019, 2019, 2019, 2019, 2019, 2018, 2019, 2019, 2019, 2019, 2019, 2019, 2018, 2018, 2018, 2017, 2019, 2019, 2019, 2019, 2019, 2019, 2019, 2018, 2018, 2017, 2016, 2016, 2016, 2019, 2019, 2019, 2019, 2017, 2017, 2017, 2017, 2017, 2019, 2019, 2019, 2019, 2019, 2018, 2017, 2017, 2019, 2019, 2019, 2019, 2019, 2019, 2019, 2019, 2019, 2018, 2017, 2017, 2017, 2016, 2016, 2016, 2019, 2019, 2019, 2018, 2018, 2018, 2017, 2017, 2017, 2017, 2016, 2019, 2019, 2019, 2019, 2019, 2019, 2019, 2019, 2019, 2019, 2019, 2019, 2019, 2019, 2019, 2019, 2019, 2019, 2019, 2019, 2019, 2019, 2019, 2019, 2019, 2019, 2019, 2019, 2019, 2019, 2019, 2019, 2019, 2019, 2019, 2018, 2018, 2018, 2018, 2018, 2018, 2018, 2019, 2019, 2019, 2019, 2019, 2019, 2019, 2019, 2019, 2019, 2019, 2019, 2019, 2018, 2018, 2018, 2018, 2018, 2018, 2018, 2016, 2019, 2019, 2019, 2016, 2018, 2017, 2016, 2016, 2016, 2016, 2015, 2009, 2019, 2018, 2018, 2018, 2017, 2017, 2017, 2017, 2017, 2017, 2016, 2019, 2019, 2019, 2019, 2019, 2018, 2018, 2018, 2018, 2018, 2018, 2018, 2018, 2017, 2019, 2019, 2019, 2019, 2019, 2019, 2019, 2019, 2019, 2019, 2019, 2019, 2019, 2019, 2019, 2019, 2019, 2019, 2019, 2019, 2018, 2018, 2018, 2018, 2018, 2018, 2018, 2018, 2018, 2018, 2018, 2018, 2018, 2018, 2018, 2018, 2017, 2017, 2017, 2017, 2017, 2016, 2016, 2016, 2016, 2019, 2019, 2019, 2017, 2017, 2014, 2012, 2019, 2018, 2018, 2018, 2017, 2015, 2015, 2019, 2018, 2017, 2019, 2019, 2019, 2019, 2017, 2016, 2016, 2018, 2018, 2018, 2017, 2017, 2017, 2017, 2017, 2016, 2016, 2019, 2019, 2019, 2019, 2019, 2019, 2019, 2019, 2019, 2019, 2019, 2019, 2019, 2019, 2019, 2019, 2019, 2019, 2019, 2019, 2019, 2019, 2019, 2019, 2019, 2019, 2019, 2019, 2019, 2019, 2019, 2019, 2019, 2019, 2019, 2019, 2019, 2019, 2019, 2019, 2019, 2019, 2019, 2019, 2019, 2019, 2019, 2019, 2019, 2019, 2019, 2019, 2019, 2019, 2019, 2019, 2019, 2019, 2019, 2019, 2019, 2019, 2019, 2019, 2019, 2019, 2019, 2019, 2019, 2019, 2019, 2019, 2019, 2019, 2019, 2019, 2019, 2019, 2019, 2019, 2019, 2019, 2019, 2019, 2019, 2019, 2019, 2019, 2019, 2019, 2019, 2019, 2019, 2019, 2018, 2018, 2018, 2018, 2018, 2018, 2018, 2018, 2018, 2018, 2018, 2018, 2018, 2018, 2018, 2018, 2018, 2018, 2018, 2018, 2018, 2018, 2018, 2018, 2018, 2018, 2018, 2018, 2018, 2018, 2018, 2018, 2018, 2018, 2018, 2018, 2018, 2018, 2018, 2018, 2018, 2018, 2018, 2018, 2018, 2018, 2018, 2018, 2018, 2018, 2018, 2018, 2018, 2018, 2018, 2018, 2018, 2018, 2018, 2017, 2017, 2017, 2017, 2017, 2017, 2017, 2017, 2017, 2017, 2017, 2017, 2017, 2017, 2017, 2017, 2017, 2017, 2017, 2017, 2017, 2017, 2017, 2017, 2017, 2017, 2017, 2017, 2017, 2017, 2017, 2016, 2016, 2016, 2016, 2016, 2016, 2016, 2016, 2016, 2016, 2016, 2016, 2016, 2016, 2016, 2013, 2013, 2010, 2019, 2019, 2019, 2019, 2019, 2019, 2019, 2019, 2017, 2019, 2019, 2019, 2019, 2019, 2019, 2019, 2019, 2019, 2018, 2018, 2018, 2017, 2016, 2019, 2019, 2019, 2019, 2019, 2019, 2018, 2018, 2017, 2019, 2019, 2019, 2019, 2016, 2019, 2018, 2018, 2018, 2017, 2017, 2017, 2017, 2016, 2009, 2018, 2018, 2018, 2018, 2018, 2018, 2018, 2018, 2018, 2017, 2019, 2019, 2019, 2019, 2019, 2019, 2019, 2019, 2019, 2019, 2019, 2019, 2019, 2019, 2018, 2017, 2019, 2019, 2019, 2017, 2019, 2019, 2019, 2019, 2019, 2019, 2019, 2019, 2019, 2019, 2019, 2018, 2017, 2017, 2015, 2019, 2019, 2019, 2019, 2019, 2018, 2016, 2019, 2019, 2018, 2018, 2017, 2017, 2017, 2017, 2016, 2019, 2019, 2018, 2018, 2018, 2018, 2017, 2019, 2019, 2019, 2019, 2019, 2019, 2018, 2019, 2017, 2017, 2016, 2019, 2019, 2018, 2018, 2017, 2017, 2017, 2017, 2017, 2017, 2017, 2016, 2015, 2015, 2019, 2019, 2019, 2019, 2019, 2019, 2019, 2019, 2019, 2019, 2018, 2017, 2017, 2019, 2018, 2018, 2017, 2017, 2017, 2017, 2017, 2017, 2019, 2019, 2018, 2018, 2018, 2017, 2019, 2019, 2019, 2019, 2019, 2019, 2019, 2019, 2019, 2019, 2019, 2018, 2015, 2011, 2019, 2019, 2019, 2019, 2019, 2019, 2019, 2019, 2019, 2018, 2018, 2018, 2018, 2017, 2017, 2017, 2019, 2019, 2019, 2019, 2019, 2019, 2019, 2019, 2019, 2019, 2019, 2019, 2019, 2018, 2018, 2018, 2018, 2018, 2018, 2017, 2017, 2017, 2017, 2017, 2017, 2017, 2017, 2017, 2017, 2017, 2016, 2019, 2019, 2019, 2019, 2019, 2017, 2019, 2019, 2018, 2017, 2019, 2019, 2018, 2017, 2017, 2017, 2017, 2019, 2019, 2019, 2019, 2018, 2018, 2018, 2018, 2019, 2019, 2019, 2019, 2019, 2019, 2019, 2019, 2019, 2019, 2017, 2017, 2017, 2017, 2017, 2017, 2017, 2015, 2019, 2019, 2019, 2019, 2019, 2019, 2019, 2019, 2019, 2019, 2019, 2019, 2019, 2019, 2019, 2019, 2019, 2018, 2018, 2018, 2018, 2018, 2018, 2018, 2018, 2018, 2018, 2018, 2018, 2018, 2018, 2018, 2018, 2018, 2018, 2018, 2018, 2018, 2018, 2018, 2018, 2018, 2018, 2018, 2018, 2018, 2018, 2018, 2018, 2018, 2018, 2018, 2018, 2018, 2018, 2018, 2018, 2018, 2018, 2018, 2017, 2017, 2017, 2017, 2017, 2017, 2017, 2017, 2017, 2017, 2017, 2017, 2017, 2017, 2017, 2017, 2017, 2017, 2017, 2017, 2017, 2017, 2017, 2017, 2017, 2017, 2017, 2017, 2017, 2017, 2017, 2017, 2017, 2017, 2017, 2017, 2017, 2017, 2017, 2017, 2017, 2017, 2017, 2017, 2016, 2016, 2016, 2019, 2018, 2018, 2018, 2018, 2017, 2017, 2017, 2017, 2017, 2016, 2019, 2019, 2019, 2019, 2019, 2019, 2019, 2019, 2019, 2019, 2019, 2019, 2019, 2019, 2019, 2019, 2019, 2018, 2018, 2017, 2019, 2019, 2019, 2019, 2019, 2019, 2019, 2018, 2018, 2017, 2016, 2019, 2019, 2018, 2018, 2018, 2018, 2018, 2018, 2018, 2015, 2015, 2019, 2019, 2019, 2019, 2019, 2018, 2019, 2019, 2019, 2019, 2019, 2019, 2018, 2019, 2019, 2019, 2019, 2019, 2018, 2018, 2018, 2018, 2017, 2017, 2017, 2017]\n"
          ]
        }
      ]
    },
    {
      "cell_type": "code",
      "metadata": {
        "colab": {
          "base_uri": "https://localhost:8080/"
        },
        "id": "CaTF9NUidjcg",
        "outputId": "d05d023c-f768-4fc3-e38c-a88919850595"
      },
      "source": [
        "print(\"'date_added' 와 'releas_year'의 shape\\n\")\n",
        "\n",
        "print(\"date_added = \" + str(len(date_added_year)))\n",
        "print( \"releas_year = \" + str(df['release_year'].shape))"
      ],
      "execution_count": 13,
      "outputs": [
        {
          "output_type": "stream",
          "name": "stdout",
          "text": [
            "'date_added' 와 'releas_year'의 shape\n",
            "\n",
            "date_added = 1998\n",
            "releas_year = (1998,)\n"
          ]
        }
      ]
    },
    {
      "cell_type": "code",
      "metadata": {
        "colab": {
          "base_uri": "https://localhost:8080/"
        },
        "id": "dlnxVafit0o9",
        "outputId": "b81d48d0-04f5-4689-9d43-5ea7b7a6a52f"
      },
      "source": [
        "type(date_added_year)"
      ],
      "execution_count": 14,
      "outputs": [
        {
          "output_type": "execute_result",
          "data": {
            "text/plain": [
              "list"
            ]
          },
          "metadata": {},
          "execution_count": 14
        }
      ]
    },
    {
      "cell_type": "markdown",
      "metadata": {
        "id": "2zQHPjuauIbR"
      },
      "source": [
        "## DataFrame Merge\n",
        "두개의 열을 합치기 위해 list 타입의 date_added_year을 datafram으로 변환 "
      ]
    },
    {
      "cell_type": "code",
      "metadata": {
        "id": "_aIntUZ8fLH5"
      },
      "source": [
        "date_added_year = pd.DataFrame(date_added_year, columns=['date_added_year'])"
      ],
      "execution_count": 15,
      "outputs": []
    },
    {
      "cell_type": "markdown",
      "metadata": {
        "id": "kLHfrnDNutxr"
      },
      "source": [
        "### **상관계수 추출을 위해 result_df 생성**\n",
        "\n",
        "> result_df = date_added_year와 release_year의 정보만 있음"
      ]
    },
    {
      "cell_type": "code",
      "metadata": {
        "colab": {
          "base_uri": "https://localhost:8080/",
          "height": 419
        },
        "id": "HXx-bjMrpAT6",
        "outputId": "ec2a5604-cdc3-4bac-be57-b8dc6a5d1281"
      },
      "source": [
        "result_df = pd.concat([date_added_year,df['release_year']],axis=1)\n",
        "result_df"
      ],
      "execution_count": 16,
      "outputs": [
        {
          "output_type": "execute_result",
          "data": {
            "text/html": [
              "<div>\n",
              "<style scoped>\n",
              "    .dataframe tbody tr th:only-of-type {\n",
              "        vertical-align: middle;\n",
              "    }\n",
              "\n",
              "    .dataframe tbody tr th {\n",
              "        vertical-align: top;\n",
              "    }\n",
              "\n",
              "    .dataframe thead th {\n",
              "        text-align: right;\n",
              "    }\n",
              "</style>\n",
              "<table border=\"1\" class=\"dataframe\">\n",
              "  <thead>\n",
              "    <tr style=\"text-align: right;\">\n",
              "      <th></th>\n",
              "      <th>date_added_year</th>\n",
              "      <th>release_year</th>\n",
              "    </tr>\n",
              "  </thead>\n",
              "  <tbody>\n",
              "    <tr>\n",
              "      <th>0</th>\n",
              "      <td>2019</td>\n",
              "      <td>2019</td>\n",
              "    </tr>\n",
              "    <tr>\n",
              "      <th>1</th>\n",
              "      <td>2016</td>\n",
              "      <td>2016</td>\n",
              "    </tr>\n",
              "    <tr>\n",
              "      <th>2</th>\n",
              "      <td>2018</td>\n",
              "      <td>2013</td>\n",
              "    </tr>\n",
              "    <tr>\n",
              "      <th>3</th>\n",
              "      <td>2018</td>\n",
              "      <td>2016</td>\n",
              "    </tr>\n",
              "    <tr>\n",
              "      <th>4</th>\n",
              "      <td>2017</td>\n",
              "      <td>2017</td>\n",
              "    </tr>\n",
              "    <tr>\n",
              "      <th>...</th>\n",
              "      <td>...</td>\n",
              "      <td>...</td>\n",
              "    </tr>\n",
              "    <tr>\n",
              "      <th>1993</th>\n",
              "      <td>2018</td>\n",
              "      <td>2015</td>\n",
              "    </tr>\n",
              "    <tr>\n",
              "      <th>1994</th>\n",
              "      <td>2017</td>\n",
              "      <td>2017</td>\n",
              "    </tr>\n",
              "    <tr>\n",
              "      <th>1995</th>\n",
              "      <td>2017</td>\n",
              "      <td>2016</td>\n",
              "    </tr>\n",
              "    <tr>\n",
              "      <th>1996</th>\n",
              "      <td>2017</td>\n",
              "      <td>2016</td>\n",
              "    </tr>\n",
              "    <tr>\n",
              "      <th>1997</th>\n",
              "      <td>2017</td>\n",
              "      <td>2017</td>\n",
              "    </tr>\n",
              "  </tbody>\n",
              "</table>\n",
              "<p>1998 rows × 2 columns</p>\n",
              "</div>"
            ],
            "text/plain": [
              "      date_added_year release_year\n",
              "0                2019         2019\n",
              "1                2016         2016\n",
              "2                2018         2013\n",
              "3                2018         2016\n",
              "4                2017         2017\n",
              "...               ...          ...\n",
              "1993             2018         2015\n",
              "1994             2017         2017\n",
              "1995             2017         2016\n",
              "1996             2017         2016\n",
              "1997             2017         2017\n",
              "\n",
              "[1998 rows x 2 columns]"
            ]
          },
          "metadata": {},
          "execution_count": 16
        }
      ]
    },
    {
      "cell_type": "code",
      "metadata": {
        "colab": {
          "base_uri": "https://localhost:8080/",
          "height": 80
        },
        "id": "7NWbwVTmvLfh",
        "outputId": "15b8ea9d-3501-4a0b-a639-2bf35b388327"
      },
      "source": [
        "result_df.corr()"
      ],
      "execution_count": 17,
      "outputs": [
        {
          "output_type": "execute_result",
          "data": {
            "text/html": [
              "<div>\n",
              "<style scoped>\n",
              "    .dataframe tbody tr th:only-of-type {\n",
              "        vertical-align: middle;\n",
              "    }\n",
              "\n",
              "    .dataframe tbody tr th {\n",
              "        vertical-align: top;\n",
              "    }\n",
              "\n",
              "    .dataframe thead th {\n",
              "        text-align: right;\n",
              "    }\n",
              "</style>\n",
              "<table border=\"1\" class=\"dataframe\">\n",
              "  <thead>\n",
              "    <tr style=\"text-align: right;\">\n",
              "      <th></th>\n",
              "      <th>date_added_year</th>\n",
              "    </tr>\n",
              "  </thead>\n",
              "  <tbody>\n",
              "    <tr>\n",
              "      <th>date_added_year</th>\n",
              "      <td>1.0</td>\n",
              "    </tr>\n",
              "  </tbody>\n",
              "</table>\n",
              "</div>"
            ],
            "text/plain": [
              "                 date_added_year\n",
              "date_added_year              1.0"
            ]
          },
          "metadata": {},
          "execution_count": 17
        }
      ]
    },
    {
      "cell_type": "markdown",
      "metadata": {
        "id": "aRx2qDsrvP6g"
      },
      "source": [
        "**correlation 파악을 위해 corr() 메소드를 호출했으나** <br>\n",
        "**release_year의 데이터가 인식되지 않았다.** <br><br>\n",
        "\n",
        "**Type 출력을 해보니 str 타입이었고, numeric 형식으로 변경 후 정상적으로 corr()을 파악할 수 있었다.**"
      ]
    },
    {
      "cell_type": "code",
      "metadata": {
        "colab": {
          "base_uri": "https://localhost:8080/"
        },
        "id": "E3BX5pJ8g-xM",
        "outputId": "e622701a-9626-452a-df8b-a1b9a857d528"
      },
      "source": [
        "print(type(result_df['release_year'][0]))\n",
        "print(type(result_df['date_added_year'][0]))\n",
        "\n",
        "# Type 변환\n",
        "result_df['release_year'] = pd.to_numeric(result_df['release_year'])\n",
        "\n",
        "print()\n",
        "print(type(result_df['release_year'][0]))\n",
        "print(type(result_df['date_added_year'][0]))"
      ],
      "execution_count": 18,
      "outputs": [
        {
          "output_type": "stream",
          "name": "stdout",
          "text": [
            "<class 'str'>\n",
            "<class 'numpy.int64'>\n",
            "\n",
            "<class 'numpy.int64'>\n",
            "<class 'numpy.int64'>\n"
          ]
        }
      ]
    },
    {
      "cell_type": "code",
      "metadata": {
        "colab": {
          "base_uri": "https://localhost:8080/",
          "height": 111
        },
        "id": "D_t46Qx6l6Jf",
        "outputId": "05009a67-049f-49a5-b80d-dbaf39c7c40b"
      },
      "source": [
        "result_df.corr()"
      ],
      "execution_count": 19,
      "outputs": [
        {
          "output_type": "execute_result",
          "data": {
            "text/html": [
              "<div>\n",
              "<style scoped>\n",
              "    .dataframe tbody tr th:only-of-type {\n",
              "        vertical-align: middle;\n",
              "    }\n",
              "\n",
              "    .dataframe tbody tr th {\n",
              "        vertical-align: top;\n",
              "    }\n",
              "\n",
              "    .dataframe thead th {\n",
              "        text-align: right;\n",
              "    }\n",
              "</style>\n",
              "<table border=\"1\" class=\"dataframe\">\n",
              "  <thead>\n",
              "    <tr style=\"text-align: right;\">\n",
              "      <th></th>\n",
              "      <th>date_added_year</th>\n",
              "      <th>release_year</th>\n",
              "    </tr>\n",
              "  </thead>\n",
              "  <tbody>\n",
              "    <tr>\n",
              "      <th>date_added_year</th>\n",
              "      <td>1.000000</td>\n",
              "      <td>0.065335</td>\n",
              "    </tr>\n",
              "    <tr>\n",
              "      <th>release_year</th>\n",
              "      <td>0.065335</td>\n",
              "      <td>1.000000</td>\n",
              "    </tr>\n",
              "  </tbody>\n",
              "</table>\n",
              "</div>"
            ],
            "text/plain": [
              "                 date_added_year  release_year\n",
              "date_added_year         1.000000      0.065335\n",
              "release_year            0.065335      1.000000"
            ]
          },
          "metadata": {},
          "execution_count": 19
        }
      ]
    }
  ]
}