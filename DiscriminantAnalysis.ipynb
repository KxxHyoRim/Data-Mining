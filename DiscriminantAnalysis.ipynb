{
  "nbformat": 4,
  "nbformat_minor": 0,
  "metadata": {
    "colab": {
      "name": "DiscriminantAnalysis.ipynb",
      "provenance": [],
      "collapsed_sections": [],
      "authorship_tag": "ABX9TyOT8sEGi8HZODIwQ33pwPf5",
      "include_colab_link": true
    },
    "kernelspec": {
      "name": "python3",
      "display_name": "Python 3"
    },
    "language_info": {
      "name": "python"
    }
  },
  "cells": [
    {
      "cell_type": "markdown",
      "metadata": {
        "id": "view-in-github",
        "colab_type": "text"
      },
      "source": [
        "<a href=\"https://colab.research.google.com/github/KxxHyoRim/Data-Mining/blob/main/DiscriminantAnalysis.ipynb\" target=\"_parent\"><img src=\"https://colab.research.google.com/assets/colab-badge.svg\" alt=\"Open In Colab\"/></a>"
      ]
    },
    {
      "cell_type": "markdown",
      "source": [
        "**Linear Discriminant Analysis**"
      ],
      "metadata": {
        "id": "i5yFgYQrmF8q"
      }
    },
    {
      "cell_type": "code",
      "execution_count": 1,
      "metadata": {
        "colab": {
          "base_uri": "https://localhost:8080/"
        },
        "id": "hf4cxqMolv0n",
        "outputId": "ef358d4f-2dbc-4697-cab6-264d4871d4a8"
      },
      "outputs": [
        {
          "output_type": "stream",
          "name": "stdout",
          "text": [
            "[1]\n"
          ]
        }
      ],
      "source": [
        "import numpy as np\n",
        "from sklearn.discriminant_analysis import LinearDiscriminantAnalysis\n",
        "\n",
        "X = np.array([[-1,-1], [-2, -1], [-3, -2], [1, 1], [2,1], [3,2]])\n",
        "y = np.array([1,1,1,2,2,2])\n",
        "clf = LinearDiscriminantAnalysis()\n",
        "clf.fit(X, y)\n",
        "print(clf.predict([[-0.8, -1]]))"
      ]
    },
    {
      "cell_type": "markdown",
      "source": [
        "**Quadratic Discriminant Analysis**"
      ],
      "metadata": {
        "id": "sZHGcCDZmI_s"
      }
    },
    {
      "cell_type": "code",
      "source": [
        "import numpy as np\n",
        "from sklearn.discriminant_analysis import QuadraticDiscriminantAnalysis\n",
        "\n",
        "X = np.array([[-1,-1], [-2, -1], [-3, -2], [1, 1], [2,1], [3,2]])\n",
        "y = np.array([1,1,1,2,2,2])\n",
        "clf = QuadraticDiscriminantAnalysis()\n",
        "clf.fit(X, y)\n",
        "print(clf.predict([[-0.8, -1]]))"
      ],
      "metadata": {
        "id": "P0nCZnCMlzrV"
      },
      "execution_count": null,
      "outputs": []
    }
  ]
}