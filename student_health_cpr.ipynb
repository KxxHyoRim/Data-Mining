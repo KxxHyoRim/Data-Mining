{
  "nbformat": 4,
  "nbformat_minor": 0,
  "metadata": {
    "colab": {
      "name": "student_health_cpr.ipynb",
      "provenance": [],
      "collapsed_sections": [],
      "authorship_tag": "ABX9TyOkOiM0nZMeA09b7RpbBWyT",
      "include_colab_link": true
    },
    "kernelspec": {
      "name": "python3",
      "display_name": "Python 3"
    },
    "language_info": {
      "name": "python"
    }
  },
  "cells": [
    {
      "cell_type": "markdown",
      "metadata": {
        "id": "view-in-github",
        "colab_type": "text"
      },
      "source": [
        "<a href=\"https://colab.research.google.com/github/KxxHyoRim/Data-Mining/blob/main/student_health_cpr.ipynb\" target=\"_parent\"><img src=\"https://colab.research.google.com/assets/colab-badge.svg\" alt=\"Open In Colab\"/></a>"
      ]
    },
    {
      "cell_type": "code",
      "metadata": {
        "colab": {
          "base_uri": "https://localhost:8080/"
        },
        "id": "g-w_ftKLIND4",
        "outputId": "b61071bc-1482-43d7-ecec-76593eb3c303"
      },
      "source": [
        "import pandas as pd\n",
        "import numpy as np\n",
        "import time\n",
        "import matplotlib.pyplot as plt\n",
        "from sklearn.neighbors import KNeighborsClassifier\n",
        "from sklearn.neural_network import MLPClassifier\n",
        "from sklearn.datasets import make_classification\n",
        "from sklearn.model_selection import train_test_split\n",
        "from google.colab import drive\n",
        "\n",
        "#불러올 파일의 경로를 filename 변수에 저장\n",
        "drive.mount('/content/drive')\n",
        "file = '/content/drive/My Drive/Data Mining/student_health_2.csv'\n",
        "\n",
        "# Load Data\n",
        "data = pd.read_csv(file,  encoding='cp949')"
      ],
      "execution_count": 5,
      "outputs": [
        {
          "output_type": "stream",
          "name": "stdout",
          "text": [
            "Drive already mounted at /content/drive; to attempt to forcibly remount, call drive.mount(\"/content/drive\", force_remount=True).\n"
          ]
        }
      ]
    },
    {
      "cell_type": "markdown",
      "metadata": {
        "id": "2SOzz-l1Qvn5"
      },
      "source": [
        "데이터 확인 결과 알게된 사실\n",
        "\n",
        "1. 해당 데이터는 모두 초등학생으로 구성됨\n",
        "2. 1~6학년 까지의 데이터가 있음\n",
        "3. 수축기와, 이완기 column의 경우 1,4학년의 데이터만 있음\n",
        "\n",
        "데이터 전처리에 대한 코드는 직접적으로 LMS에 첨부하지 않으나 아래 링크에서 확인 가능합니다.\n",
        "\n",
        "https://colab.research.google.com/drive/1XNDlWXO3YZNt0e4UzrcOociU3vzPG9dF#scrollTo=CkMFpbQNMMN6"
      ]
    },
    {
      "cell_type": "code",
      "metadata": {
        "id": "Z6ZMRq8FQSRp"
      },
      "source": [
        "def callKNN(X, y):\n",
        "  \n",
        "  # 2. 데이터 분리\n",
        "  X_train, X_test, y_train, y_test = train_test_split(X, y, stratify=y, random_state=1)\n",
        "\n",
        "  # 3. KNN Train\n",
        "  start_time = time.time()\n",
        "  kn = KNeighborsClassifier()\n",
        "  kn.fit(X_train, y_train)\n",
        "  end_time = time.time()\n",
        "  print(\"훈련 속도 : \", end_time - start_time )\n",
        "\n",
        "  # 4. 점수 산정\n",
        "  print(\"KNN Score\", kn.score(X_test, y_test))\n",
        "\n",
        "  # 5. Predict KNN\n",
        "  print( y_test[:5] , \"# Real Data\")\n",
        "  print(kn.predict(X_test[:5, :]),  \"# Predicted Data\\n\\n\")"
      ],
      "execution_count": 6,
      "outputs": []
    },
    {
      "cell_type": "code",
      "metadata": {
        "id": "c77d8beTQPsE"
      },
      "source": [
        "def callNN(X, y):\n",
        "  \n",
        "  # 2. 데이터 분리\n",
        "  X_train, X_test, y_train, y_test = train_test_split(X, y, stratify=y, random_state=1)\n",
        "    \n",
        "  #3. MLP Classifier 훈련\n",
        "  start_time = time.time()\n",
        "  clf = MLPClassifier().fit(X_train, y_train)\n",
        "  end_time = time.time()\n",
        "  print(\"훈련 속도 : \", end_time - start_time )\n",
        "\n",
        "  #4. MLP 점수 산정 = 정확률 계산\n",
        "  print(\"NN Score \", clf.score(X_test, y_test))\n",
        "\n",
        "\n",
        "  #5. MLP 예측\n",
        "  print(y_test[:5] , \"# Real Data\")\n",
        "  print(clf.predict(X_test[:5, :]), \"# Predicted Data\\n\\n\")"
      ],
      "execution_count": 7,
      "outputs": []
    },
    {
      "cell_type": "code",
      "metadata": {
        "colab": {
          "base_uri": "https://localhost:8080/"
        },
        "id": "6thjlDJAI5ue",
        "outputId": "ce3c8106-68aa-4877-8298-60d9fbf6aa1b"
      },
      "source": [
        "if __name__==\"__main__\" :\n",
        "  df = pd.DataFrame(data, columns=['키', '몸무게', '학년', '수축기', '이완기'])\n",
        "\n",
        "  # 2개의 feature로 6개 카테고리 분류\n",
        "\n",
        "  X = df[['키', '몸무게']].values\n",
        "  y = df['학년'].values\n",
        "\n",
        "  callKNN(X, y)\n",
        "  callNN(X,y)\n",
        "\n",
        "\n",
        "  # 4개의 feature로 6개 카테고리 분류\n",
        "  df = df.dropna()      # 수축기와 이완기 데이터가 없는 row 제거\n",
        "\n",
        "  X = df[['키', '몸무게', '수축기', '이완기']].values\n",
        "  y = df['학년'].values\n",
        "\n",
        "  callKNN(X, y)\n",
        "  callNN(X,y)"
      ],
      "execution_count": 8,
      "outputs": [
        {
          "output_type": "stream",
          "name": "stdout",
          "text": [
            "훈련 속도 :  0.0014650821685791016\n",
            "KNN Score 0.45352743561030234\n",
            "[3 5 6 2 2] # Real Data\n",
            "[2 6 5 3 1] # Predicted Data\n",
            "\n",
            "\n",
            "훈련 속도 :  0.5016984939575195\n",
            "NN Score  0.3023516237402016\n",
            "[3 5 6 2 2] # Real Data\n",
            "[2 2 6 2 2] # Predicted Data\n",
            "\n",
            "\n",
            "훈련 속도 :  0.0011172294616699219\n",
            "KNN Score 0.9645390070921985\n",
            "[4 4 1 4 4] # Real Data\n",
            "[4 4 1 4 4] # Predicted Data\n",
            "\n",
            "\n",
            "훈련 속도 :  0.453338623046875\n",
            "NN Score  0.8368794326241135\n",
            "[4 4 1 4 4] # Real Data\n",
            "[4 4 1 4 4] # Predicted Data\n",
            "\n",
            "\n"
          ]
        }
      ]
    }
  ]
}