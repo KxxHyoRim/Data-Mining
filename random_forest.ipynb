{
  "nbformat": 4,
  "nbformat_minor": 0,
  "metadata": {
    "colab": {
      "name": "random_forest.ipynb",
      "provenance": [],
      "authorship_tag": "ABX9TyOg2tyrBZqLx58u/1PvRqbJ",
      "include_colab_link": true
    },
    "kernelspec": {
      "name": "python3",
      "display_name": "Python 3"
    },
    "language_info": {
      "name": "python"
    }
  },
  "cells": [
    {
      "cell_type": "markdown",
      "metadata": {
        "id": "view-in-github",
        "colab_type": "text"
      },
      "source": [
        "<a href=\"https://colab.research.google.com/github/KxxHyoRim/Data-Mining/blob/main/random_forest.ipynb\" target=\"_parent\"><img src=\"https://colab.research.google.com/assets/colab-badge.svg\" alt=\"Open In Colab\"/></a>"
      ]
    },
    {
      "cell_type": "code",
      "execution_count": 3,
      "metadata": {
        "colab": {
          "base_uri": "https://localhost:8080/"
        },
        "id": "ftiLK6b6r3xT",
        "outputId": "31e34ce7-84d5-4685-934b-131bcd101d3e"
      },
      "outputs": [
        {
          "output_type": "execute_result",
          "data": {
            "text/plain": [
              "array([1])"
            ]
          },
          "metadata": {},
          "execution_count": 3
        }
      ],
      "source": [
        "from sklearn.ensemble import RandomForestClassifier\n",
        "from sklearn.datasets import make_classification\n",
        "\n",
        "X, y = make_classification(n_samples = 1000, n_features = 4,\n",
        "                           n_informative = 2, n_redundant = 0, \n",
        "                           random_state = 0, shuffle = False)\n",
        "\n",
        "clf = RandomForestClassifier(max_depth=2, random_state=0)\n",
        "clf.fit(X, y)\n",
        "\n",
        "# RandomForestClassifier(..) 강의확인할것\n",
        "\n",
        "clf.predict([[0,0,0,0]])"
      ]
    }
  ]
}