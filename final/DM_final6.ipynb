{
  "nbformat": 4,
  "nbformat_minor": 0,
  "metadata": {
    "colab": {
      "name": "DM_final6.ipynb",
      "provenance": [],
      "collapsed_sections": [],
      "authorship_tag": "ABX9TyMJEjp/yfD7ZeWmMTAr9n+O",
      "include_colab_link": true
    },
    "kernelspec": {
      "name": "python3",
      "display_name": "Python 3"
    },
    "language_info": {
      "name": "python"
    }
  },
  "cells": [
    {
      "cell_type": "markdown",
      "metadata": {
        "id": "view-in-github",
        "colab_type": "text"
      },
      "source": [
        "<a href=\"https://colab.research.google.com/github/KxxHyoRim/Data-Mining/blob/main/final/DM_final6.ipynb\" target=\"_parent\"><img src=\"https://colab.research.google.com/assets/colab-badge.svg\" alt=\"Open In Colab\"/></a>"
      ]
    },
    {
      "cell_type": "code",
      "execution_count": null,
      "metadata": {
        "colab": {
          "base_uri": "https://localhost:8080/",
          "height": 556
        },
        "id": "1CuRwglTTeK5",
        "outputId": "7e26a172-a718-4585-f42d-8bfc21215475"
      },
      "outputs": [
        {
          "output_type": "stream",
          "name": "stdout",
          "text": [
            "Drive already mounted at /content/drive; to attempt to forcibly remount, call drive.mount(\"/content/drive\", force_remount=True).\n"
          ]
        },
        {
          "output_type": "execute_result",
          "data": {
            "text/html": [
              "<div>\n",
              "<style scoped>\n",
              "    .dataframe tbody tr th:only-of-type {\n",
              "        vertical-align: middle;\n",
              "    }\n",
              "\n",
              "    .dataframe tbody tr th {\n",
              "        vertical-align: top;\n",
              "    }\n",
              "\n",
              "    .dataframe thead th {\n",
              "        text-align: right;\n",
              "    }\n",
              "</style>\n",
              "<table border=\"1\" class=\"dataframe\">\n",
              "  <thead>\n",
              "    <tr style=\"text-align: right;\">\n",
              "      <th></th>\n",
              "      <th>ID</th>\n",
              "      <th>최종가중치</th>\n",
              "      <th>학교ID</th>\n",
              "      <th>도시규모</th>\n",
              "      <th>도시규모별분석용</th>\n",
              "      <th>학년도</th>\n",
              "      <th>광역시도</th>\n",
              "      <th>시도별</th>\n",
              "      <th>학교급별</th>\n",
              "      <th>학교명</th>\n",
              "      <th>공학여부</th>\n",
              "      <th>학년</th>\n",
              "      <th>반</th>\n",
              "      <th>성별</th>\n",
              "      <th>건강검진일</th>\n",
              "      <th>키</th>\n",
              "      <th>몸무게</th>\n",
              "    </tr>\n",
              "  </thead>\n",
              "  <tbody>\n",
              "    <tr>\n",
              "      <th>0</th>\n",
              "      <td>Aa011남10101</td>\n",
              "      <td>169.550665</td>\n",
              "      <td>Aa01</td>\n",
              "      <td>대도시/중소도시</td>\n",
              "      <td>특별/광역시</td>\n",
              "      <td>2015</td>\n",
              "      <td>서울</td>\n",
              "      <td>서울특별시교육청</td>\n",
              "      <td>1</td>\n",
              "      <td>서울대도초등학교</td>\n",
              "      <td>남여공학</td>\n",
              "      <td>1</td>\n",
              "      <td>1</td>\n",
              "      <td>남</td>\n",
              "      <td>2015-05-12</td>\n",
              "      <td>125.8</td>\n",
              "      <td>27.3</td>\n",
              "    </tr>\n",
              "    <tr>\n",
              "      <th>1</th>\n",
              "      <td>Aa011남10102</td>\n",
              "      <td>169.550665</td>\n",
              "      <td>Aa01</td>\n",
              "      <td>대도시/중소도시</td>\n",
              "      <td>특별/광역시</td>\n",
              "      <td>2015</td>\n",
              "      <td>서울</td>\n",
              "      <td>서울특별시교육청</td>\n",
              "      <td>1</td>\n",
              "      <td>서울대도초등학교</td>\n",
              "      <td>남여공학</td>\n",
              "      <td>1</td>\n",
              "      <td>1</td>\n",
              "      <td>남</td>\n",
              "      <td>2015-04-22</td>\n",
              "      <td>124.3</td>\n",
              "      <td>25.4</td>\n",
              "    </tr>\n",
              "    <tr>\n",
              "      <th>2</th>\n",
              "      <td>Aa011남10103</td>\n",
              "      <td>169.550665</td>\n",
              "      <td>Aa01</td>\n",
              "      <td>대도시/중소도시</td>\n",
              "      <td>특별/광역시</td>\n",
              "      <td>2015</td>\n",
              "      <td>서울</td>\n",
              "      <td>서울특별시교육청</td>\n",
              "      <td>1</td>\n",
              "      <td>서울대도초등학교</td>\n",
              "      <td>남여공학</td>\n",
              "      <td>1</td>\n",
              "      <td>1</td>\n",
              "      <td>남</td>\n",
              "      <td>2015-04-21</td>\n",
              "      <td>119.2</td>\n",
              "      <td>23.5</td>\n",
              "    </tr>\n",
              "    <tr>\n",
              "      <th>3</th>\n",
              "      <td>Aa011남10104</td>\n",
              "      <td>169.550665</td>\n",
              "      <td>Aa01</td>\n",
              "      <td>대도시/중소도시</td>\n",
              "      <td>특별/광역시</td>\n",
              "      <td>2015</td>\n",
              "      <td>서울</td>\n",
              "      <td>서울특별시교육청</td>\n",
              "      <td>1</td>\n",
              "      <td>서울대도초등학교</td>\n",
              "      <td>남여공학</td>\n",
              "      <td>1</td>\n",
              "      <td>1</td>\n",
              "      <td>남</td>\n",
              "      <td>2015-04-21</td>\n",
              "      <td>115.0</td>\n",
              "      <td>20.0</td>\n",
              "    </tr>\n",
              "    <tr>\n",
              "      <th>4</th>\n",
              "      <td>Aa011남10105</td>\n",
              "      <td>169.550665</td>\n",
              "      <td>Aa01</td>\n",
              "      <td>대도시/중소도시</td>\n",
              "      <td>특별/광역시</td>\n",
              "      <td>2015</td>\n",
              "      <td>서울</td>\n",
              "      <td>서울특별시교육청</td>\n",
              "      <td>1</td>\n",
              "      <td>서울대도초등학교</td>\n",
              "      <td>남여공학</td>\n",
              "      <td>1</td>\n",
              "      <td>1</td>\n",
              "      <td>남</td>\n",
              "      <td>2015-04-23</td>\n",
              "      <td>120.0</td>\n",
              "      <td>33.5</td>\n",
              "    </tr>\n",
              "  </tbody>\n",
              "</table>\n",
              "</div>"
            ],
            "text/plain": [
              "            ID       최종가중치  학교ID      도시규모  ... 성별       건강검진일      키   몸무게\n",
              "0  Aa011남10101  169.550665  Aa01  대도시/중소도시  ...  남  2015-05-12  125.8  27.3\n",
              "1  Aa011남10102  169.550665  Aa01  대도시/중소도시  ...  남  2015-04-22  124.3  25.4\n",
              "2  Aa011남10103  169.550665  Aa01  대도시/중소도시  ...  남  2015-04-21  119.2  23.5\n",
              "3  Aa011남10104  169.550665  Aa01  대도시/중소도시  ...  남  2015-04-21  115.0  20.0\n",
              "4  Aa011남10105  169.550665  Aa01  대도시/중소도시  ...  남  2015-04-23  120.0  33.5\n",
              "\n",
              "[5 rows x 17 columns]"
            ]
          },
          "metadata": {},
          "execution_count": 31
        }
      ],
      "source": [
        "import pandas as pd\n",
        "import numpy as np\n",
        "import time\n",
        "import matplotlib.pyplot as plt\n",
        "import seaborn as sns\n",
        "from sklearn.neighbors import KNeighborsClassifier\n",
        "from sklearn.linear_model import LogisticRegression\n",
        "from sklearn.discriminant_analysis import QuadraticDiscriminantAnalysis\n",
        "from google.colab import drive\n",
        "from sklearn.cluster import KMeans\n",
        "\n",
        "\n",
        "drive.mount('/content/drive')\n",
        "file_name = '/content/drive/My Drive/Data Mining/student_health_5.csv'\n",
        "\n",
        "data = pd.read_csv(file_name, encoding='cp949')\n",
        "df = pd.DataFrame(data)\n",
        "df.head()"
      ]
    },
    {
      "cell_type": "code",
      "source": [
        "grade = data['학년']\n",
        "grade.value_counts()  # 1, 4학년만 있음\n"
      ],
      "metadata": {
        "colab": {
          "base_uri": "https://localhost:8080/"
        },
        "id": "8zXmT_VgUtYU",
        "outputId": "704a34a3-5cf7-4949-b14d-2403213281f2"
      },
      "execution_count": null,
      "outputs": [
        {
          "output_type": "execute_result",
          "data": {
            "text/plain": [
              "4    569\n",
              "1    556\n",
              "Name: 학년, dtype: int64"
            ]
          },
          "metadata": {},
          "execution_count": 32
        }
      ]
    },
    {
      "cell_type": "code",
      "source": [
        "std = pd.DataFrame(df, columns=['키', '몸무게', '학년'])\n",
        "std = std.dropna()                    # null 값 처리\n",
        "\n",
        "X = std[['키', '몸무게']].values\n",
        "y = std[['학년']].values\n",
        "\n",
        "X"
      ],
      "metadata": {
        "colab": {
          "base_uri": "https://localhost:8080/"
        },
        "id": "-O8cU7_CUwM3",
        "outputId": "9a95eaa8-4f70-4a31-b1c5-14588da49578"
      },
      "execution_count": null,
      "outputs": [
        {
          "output_type": "execute_result",
          "data": {
            "text/plain": [
              "array([[125.8,  27.3],\n",
              "       [124.3,  25.4],\n",
              "       [119.2,  23.5],\n",
              "       ...,\n",
              "       [130.2,  27.6],\n",
              "       [146.2,  41.7],\n",
              "       [129.3,  28.9]])"
            ]
          },
          "metadata": {},
          "execution_count": 33
        }
      ]
    },
    {
      "cell_type": "code",
      "source": [
        "''' K-mean Clustring '''\n",
        "kmeans = KMeans(n_clusters=2, random_state=0).fit(X)\n",
        "results = kmeans.labels_\n",
        "print(kmeans.labels_)\n",
        "\n",
        "for idx in range(0, len(results)):\n",
        "  if results[idx] == 0:\n",
        "    results[idx] = 4\n",
        "    cnt = 0\n",
        "\n",
        "for idx in range(0, len(results)):\n",
        "  if results[idx] == y[idx]:\n",
        "    cnt += 1\n",
        "\n",
        "print(\"Accuracy: \", cnt/len(results))"
      ],
      "metadata": {
        "colab": {
          "base_uri": "https://localhost:8080/"
        },
        "id": "CPZLJvt7U4TJ",
        "outputId": "3a4b00d6-80ed-4680-aee7-b178344f0810"
      },
      "execution_count": null,
      "outputs": [
        {
          "output_type": "stream",
          "name": "stdout",
          "text": [
            "[1 1 1 ... 1 0 1]\n",
            "Accuracy:  0.9288888888888889\n"
          ]
        }
      ]
    }
  ]
}