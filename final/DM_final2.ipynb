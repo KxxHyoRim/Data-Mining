{
  "nbformat": 4,
  "nbformat_minor": 0,
  "metadata": {
    "colab": {
      "name": "DM_final2.ipynb",
      "provenance": [],
      "collapsed_sections": [],
      "authorship_tag": "ABX9TyNapVC4lI9xEaogkhD95W87",
      "include_colab_link": true
    },
    "kernelspec": {
      "name": "python3",
      "display_name": "Python 3"
    },
    "language_info": {
      "name": "python"
    }
  },
  "cells": [
    {
      "cell_type": "markdown",
      "metadata": {
        "id": "view-in-github",
        "colab_type": "text"
      },
      "source": [
        "<a href=\"https://colab.research.google.com/github/KxxHyoRim/Data-Mining/blob/main/final/DM_final2.ipynb\" target=\"_parent\"><img src=\"https://colab.research.google.com/assets/colab-badge.svg\" alt=\"Open In Colab\"/></a>"
      ]
    },
    {
      "cell_type": "code",
      "execution_count": null,
      "metadata": {
        "colab": {
          "base_uri": "https://localhost:8080/",
          "height": 244
        },
        "id": "CozkYJDUECzT",
        "outputId": "9b6eefb1-cbe5-4e97-d2d7-68f7b97edded"
      },
      "outputs": [
        {
          "output_type": "stream",
          "name": "stdout",
          "text": [
            "Drive already mounted at /content/drive; to attempt to forcibly remount, call drive.mount(\"/content/drive\", force_remount=True).\n"
          ]
        },
        {
          "output_type": "execute_result",
          "data": {
            "text/html": [
              "<div>\n",
              "<style scoped>\n",
              "    .dataframe tbody tr th:only-of-type {\n",
              "        vertical-align: middle;\n",
              "    }\n",
              "\n",
              "    .dataframe tbody tr th {\n",
              "        vertical-align: top;\n",
              "    }\n",
              "\n",
              "    .dataframe thead th {\n",
              "        text-align: right;\n",
              "    }\n",
              "</style>\n",
              "<table border=\"1\" class=\"dataframe\">\n",
              "  <thead>\n",
              "    <tr style=\"text-align: right;\">\n",
              "      <th></th>\n",
              "      <th>사용일자</th>\n",
              "      <th>노선명</th>\n",
              "      <th>역명</th>\n",
              "      <th>승차총승객수</th>\n",
              "      <th>하차총승객수</th>\n",
              "      <th>등록일자</th>\n",
              "    </tr>\n",
              "  </thead>\n",
              "  <tbody>\n",
              "    <tr>\n",
              "      <th>0</th>\n",
              "      <td>20210701</td>\n",
              "      <td>2</td>\n",
              "      <td>동대문역사문화공원(DDP)</td>\n",
              "      <td>12284</td>\n",
              "      <td>13737</td>\n",
              "      <td>20210704</td>\n",
              "    </tr>\n",
              "    <tr>\n",
              "      <th>1</th>\n",
              "      <td>20210701</td>\n",
              "      <td>5</td>\n",
              "      <td>동대문역사문화공원(DDP)</td>\n",
              "      <td>2839</td>\n",
              "      <td>3381</td>\n",
              "      <td>20210704</td>\n",
              "    </tr>\n",
              "    <tr>\n",
              "      <th>2</th>\n",
              "      <td>20210701</td>\n",
              "      <td>4</td>\n",
              "      <td>동대문역사문화공원(DDP)</td>\n",
              "      <td>15094</td>\n",
              "      <td>14009</td>\n",
              "      <td>20210704</td>\n",
              "    </tr>\n",
              "    <tr>\n",
              "      <th>3</th>\n",
              "      <td>20210702</td>\n",
              "      <td>5</td>\n",
              "      <td>동대문역사문화공원(DDP)</td>\n",
              "      <td>2876</td>\n",
              "      <td>3492</td>\n",
              "      <td>20210705</td>\n",
              "    </tr>\n",
              "    <tr>\n",
              "      <th>4</th>\n",
              "      <td>20210702</td>\n",
              "      <td>4</td>\n",
              "      <td>동대문역사문화공원(DDP)</td>\n",
              "      <td>15263</td>\n",
              "      <td>14096</td>\n",
              "      <td>20210705</td>\n",
              "    </tr>\n",
              "  </tbody>\n",
              "</table>\n",
              "</div>"
            ],
            "text/plain": [
              "       사용일자  노선명              역명  승차총승객수  하차총승객수      등록일자\n",
              "0  20210701    2  동대문역사문화공원(DDP)   12284   13737  20210704\n",
              "1  20210701    5  동대문역사문화공원(DDP)    2839    3381  20210704\n",
              "2  20210701    4  동대문역사문화공원(DDP)   15094   14009  20210704\n",
              "3  20210702    5  동대문역사문화공원(DDP)    2876    3492  20210705\n",
              "4  20210702    4  동대문역사문화공원(DDP)   15263   14096  20210705"
            ]
          },
          "metadata": {},
          "execution_count": 18
        }
      ],
      "source": [
        "import pandas as pd\n",
        "import numpy as np\n",
        "import matplotlib.pyplot as plt\n",
        "from sklearn.neighbors import KNeighborsClassifier\n",
        "from google.colab import drive\n",
        "from sklearn.neural_network import MLPClassifier\n",
        "from sklearn.datasets import make_classification\n",
        "from sklearn.model_selection import train_test_split\n",
        "\n",
        "\n",
        "drive.mount('/content/drive')\n",
        "file_name = '/content/drive/My Drive/Data Mining/subway_0.csv'\n",
        "\n",
        "data = pd.read_csv(file_name, encoding='cp949')\n",
        "df = pd.DataFrame(data)\n",
        "df.head()"
      ]
    },
    {
      "cell_type": "code",
      "source": [
        "X = df[['승차총승객수', '하차총승객수']]\n",
        "y = df['노선명']\n",
        "\n",
        "clf = MLPClassifier(random_state = 1, max_iter = 300).fit(X, y)\n",
        "print(clf.predict([[20000, 15000]]))"
      ],
      "metadata": {
        "colab": {
          "base_uri": "https://localhost:8080/"
        },
        "id": "s4VapMCPFt1O",
        "outputId": "a3496981-13e9-4f43-ce53-8cfc686ab993"
      },
      "execution_count": null,
      "outputs": [
        {
          "output_type": "stream",
          "name": "stdout",
          "text": [
            "[4]\n"
          ]
        },
        {
          "output_type": "stream",
          "name": "stderr",
          "text": [
            "/usr/local/lib/python3.7/dist-packages/sklearn/base.py:446: UserWarning: X does not have valid feature names, but MLPClassifier was fitted with feature names\n",
            "  \"X does not have valid feature names, but\"\n"
          ]
        }
      ]
    }
  ]
}