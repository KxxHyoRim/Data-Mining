{
  "nbformat": 4,
  "nbformat_minor": 0,
  "metadata": {
    "colab": {
      "name": "DM_final4.ipynb",
      "provenance": [],
      "collapsed_sections": [],
      "authorship_tag": "ABX9TyOCeou6rcMMeweOIOlopEPT",
      "include_colab_link": true
    },
    "kernelspec": {
      "name": "python3",
      "display_name": "Python 3"
    },
    "language_info": {
      "name": "python"
    }
  },
  "cells": [
    {
      "cell_type": "markdown",
      "metadata": {
        "id": "view-in-github",
        "colab_type": "text"
      },
      "source": [
        "<a href=\"https://colab.research.google.com/github/KxxHyoRim/Data-Mining/blob/main/final/DM_final4.ipynb\" target=\"_parent\"><img src=\"https://colab.research.google.com/assets/colab-badge.svg\" alt=\"Open In Colab\"/></a>"
      ]
    },
    {
      "cell_type": "code",
      "execution_count": 7,
      "metadata": {
        "colab": {
          "base_uri": "https://localhost:8080/"
        },
        "id": "ybAcW8sbDtoq",
        "outputId": "37a10219-51fa-4c5f-de9c-b4bbdd9f854e"
      },
      "outputs": [
        {
          "output_type": "stream",
          "name": "stdout",
          "text": [
            "Drive already mounted at /content/drive; to attempt to forcibly remount, call drive.mount(\"/content/drive\", force_remount=True).\n"
          ]
        }
      ],
      "source": [
        "import pandas as pd\n",
        "import numpy as np\n",
        "import time\n",
        "import matplotlib.pyplot as plt\n",
        "from sklearn.neighbors import KNeighborsClassifier\n",
        "from sklearn.linear_model import LogisticRegression\n",
        "from sklearn.discriminant_analysis import QuadraticDiscriminantAnalysis\n",
        "from google.colab import drive\n",
        "\n",
        "\n",
        "drive.mount('/content/drive')\n",
        "file_name = '/content/drive/My Drive/Data Mining/subway_2.csv'\n",
        "\n",
        "data = pd.read_csv(file_name, encoding='cp949')\n",
        "df = pd.DataFrame(data)\n",
        "# print(df.shape)\n",
        "df.head(3)\n",
        "\n",
        "X = df[['승차총승객수', '하차총승객수']].values\n",
        "y = df['노선명'].values"
      ]
    },
    {
      "cell_type": "code",
      "source": [
        "print(\"모델 별 예측 값\")\n",
        "\n",
        "# KNN\n",
        "kn = KNeighborsClassifier(n_neighbors=8).fit(X, y)\n",
        "print(\"KNN : \" , kn.predict([[30000, 30000]]))\n",
        "\n",
        "# Logistic Regression\n",
        "clf = LogisticRegression(random_state=1, max_iter=500).fit(X, y)\n",
        "print(\"Logistic : \", clf.predict([[30000, 30000]]))\n",
        "\n",
        "# QDA\n",
        "qda = QuadraticDiscriminantAnalysis().fit(X, y)\n",
        "print(\"QDA : \", qda.predict([[30000, 30000]]))"
      ],
      "metadata": {
        "colab": {
          "base_uri": "https://localhost:8080/"
        },
        "id": "bBLooScyI2Rw",
        "outputId": "b247a4ec-c39b-438c-a7cb-f1cb36c5a2f9"
      },
      "execution_count": 8,
      "outputs": [
        {
          "output_type": "stream",
          "name": "stdout",
          "text": [
            "모델 별 예측 값\n",
            "KNN :  ['1호선']\n",
            "Logistic :  ['1호선']\n",
            "QDA :  ['1호선']\n"
          ]
        }
      ]
    },
    {
      "cell_type": "code",
      "source": [
        "# 최종 정확률\n",
        "\n",
        "print(\"최종 정확률\")\n",
        "print(\"knn : \", round(kn.score(X, y),2))\n",
        "print(\"logistic : \", round(clf.score(X, y),2))\n",
        "print(\"QDA : \", round(qda.score(X, y), 2))\n",
        "print(\"최고 정확률 모델은 QDA이다.\")"
      ],
      "metadata": {
        "colab": {
          "base_uri": "https://localhost:8080/"
        },
        "id": "Ka1Cmw2HJFsJ",
        "outputId": "4ed444cd-cabc-499b-876f-8b61ef467d01"
      },
      "execution_count": 9,
      "outputs": [
        {
          "output_type": "stream",
          "name": "stdout",
          "text": [
            "최종 정확률\n",
            "knn :  0.88\n",
            "logistic :  0.9\n",
            "QDA :  0.93\n",
            "최고 정확률 모델은 QDA이다.\n"
          ]
        }
      ]
    }
  ]
}