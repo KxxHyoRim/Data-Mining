{
  "nbformat": 4,
  "nbformat_minor": 0,
  "metadata": {
    "colab": {
      "name": "AirRoute",
      "provenance": [],
      "collapsed_sections": [],
      "authorship_tag": "ABX9TyM49tRQFGr8uzwY4t5gG+lX",
      "include_colab_link": true
    },
    "kernelspec": {
      "name": "python3",
      "display_name": "Python 3"
    },
    "language_info": {
      "name": "python"
    }
  },
  "cells": [
    {
      "cell_type": "markdown",
      "metadata": {
        "id": "view-in-github",
        "colab_type": "text"
      },
      "source": [
        "<a href=\"https://colab.research.google.com/github/KxxHyoRim/Data-Mining/blob/main/AirRoute.ipynb\" target=\"_parent\"><img src=\"https://colab.research.google.com/assets/colab-badge.svg\" alt=\"Open In Colab\"/></a>"
      ]
    },
    {
      "cell_type": "code",
      "metadata": {
        "id": "Dd3Y_ZdQ3P9y"
      },
      "source": [
        "import pandas as pd\n",
        "import numpy as np\n",
        "import matplotlib.pyplot as plt\n",
        "# from keras.callbacks import TensorBoard, ModelCheckpoint, ReduceLROnPlateau\n",
        "import datetime"
      ],
      "execution_count": 26,
      "outputs": []
    },
    {
      "cell_type": "code",
      "metadata": {
        "colab": {
          "base_uri": "https://localhost:8080/"
        },
        "id": "jAELbvDj3VHv",
        "outputId": "8ec7b658-0eca-49d2-e91b-485242394e0e"
      },
      "source": [
        "from google.colab import drive\n",
        "drive.mount('/content/drive')"
      ],
      "execution_count": 27,
      "outputs": [
        {
          "output_type": "stream",
          "name": "stdout",
          "text": [
            "Drive already mounted at /content/drive; to attempt to forcibly remount, call drive.mount(\"/content/drive\", force_remount=True).\n"
          ]
        }
      ]
    },
    {
      "cell_type": "code",
      "metadata": {
        "colab": {
          "base_uri": "https://localhost:8080/",
          "height": 206
        },
        "id": "DX6HrBW73dMK",
        "outputId": "6506d0a3-3d86-4524-b7b5-1a2c8d1de5b4"
      },
      "source": [
        "#불러올 파일의 경로를 filename 변수에 저장\n",
        "filename = '/content/drive/My Drive/Data Mining/항공통계.csv'\n",
        "#pandas read_csv로 불러오기\n",
        "data = pd.read_csv(filename, encoding='cp949') # encoding : 한글 로딩 위함\n",
        "data.head()"
      ],
      "execution_count": 28,
      "outputs": [
        {
          "output_type": "execute_result",
          "data": {
            "text/html": [
              "<div>\n",
              "<style scoped>\n",
              "    .dataframe tbody tr th:only-of-type {\n",
              "        vertical-align: middle;\n",
              "    }\n",
              "\n",
              "    .dataframe tbody tr th {\n",
              "        vertical-align: top;\n",
              "    }\n",
              "\n",
              "    .dataframe thead th {\n",
              "        text-align: right;\n",
              "    }\n",
              "</style>\n",
              "<table border=\"1\" class=\"dataframe\">\n",
              "  <thead>\n",
              "    <tr style=\"text-align: right;\">\n",
              "      <th></th>\n",
              "      <th>항공노선</th>\n",
              "      <th>LEVEL1</th>\n",
              "      <th>값</th>\n",
              "      <th>년(Annual)</th>\n",
              "      <th>증감</th>\n",
              "      <th>증감율</th>\n",
              "      <th>구성비</th>\n",
              "      <th>누계</th>\n",
              "      <th>누계구성비</th>\n",
              "    </tr>\n",
              "  </thead>\n",
              "  <tbody>\n",
              "    <tr>\n",
              "      <th>0</th>\n",
              "      <td>김포-김해</td>\n",
              "      <td>계</td>\n",
              "      <td>273</td>\n",
              "      <td>2020</td>\n",
              "      <td>273</td>\n",
              "      <td>273</td>\n",
              "      <td>0</td>\n",
              "      <td>0</td>\n",
              "      <td>0</td>\n",
              "    </tr>\n",
              "    <tr>\n",
              "      <th>1</th>\n",
              "      <td>김포-김해</td>\n",
              "      <td>대한항공</td>\n",
              "      <td>63</td>\n",
              "      <td>2020</td>\n",
              "      <td>63</td>\n",
              "      <td>63</td>\n",
              "      <td>0</td>\n",
              "      <td>0</td>\n",
              "      <td>0</td>\n",
              "    </tr>\n",
              "    <tr>\n",
              "      <th>2</th>\n",
              "      <td>김포-김해</td>\n",
              "      <td>아시아나항공</td>\n",
              "      <td>0</td>\n",
              "      <td>2020</td>\n",
              "      <td>0</td>\n",
              "      <td>0</td>\n",
              "      <td>0</td>\n",
              "      <td>0</td>\n",
              "      <td>0</td>\n",
              "    </tr>\n",
              "    <tr>\n",
              "      <th>3</th>\n",
              "      <td>김포-김해</td>\n",
              "      <td>제주항공</td>\n",
              "      <td>43</td>\n",
              "      <td>2020</td>\n",
              "      <td>43</td>\n",
              "      <td>43</td>\n",
              "      <td>0</td>\n",
              "      <td>0</td>\n",
              "      <td>0</td>\n",
              "    </tr>\n",
              "    <tr>\n",
              "      <th>4</th>\n",
              "      <td>김포-김해</td>\n",
              "      <td>진에어</td>\n",
              "      <td>56</td>\n",
              "      <td>2020</td>\n",
              "      <td>56</td>\n",
              "      <td>56</td>\n",
              "      <td>0</td>\n",
              "      <td>0</td>\n",
              "      <td>0</td>\n",
              "    </tr>\n",
              "  </tbody>\n",
              "</table>\n",
              "</div>"
            ],
            "text/plain": [
              "    항공노선  LEVEL1    값  년(Annual)   증감  증감율  구성비  누계  누계구성비\n",
              "0  김포-김해       계  273       2020  273  273    0   0      0\n",
              "1  김포-김해    대한항공   63       2020   63   63    0   0      0\n",
              "2  김포-김해  아시아나항공    0       2020    0    0    0   0      0\n",
              "3  김포-김해    제주항공   43       2020   43   43    0   0      0\n",
              "4  김포-김해     진에어   56       2020   56   56    0   0      0"
            ]
          },
          "metadata": {},
          "execution_count": 28
        }
      ]
    },
    {
      "cell_type": "code",
      "metadata": {
        "colab": {
          "base_uri": "https://localhost:8080/"
        },
        "id": "Tr8_iphf36Ai",
        "outputId": "48ee532f-133f-4e53-f5d1-2a48094203b2"
      },
      "source": [
        "air_route = data['항공노선']\n",
        "\n",
        "inland = 0\n",
        "jeju = 0\n",
        "\n",
        "idx = 0\n",
        "for i in air_route:\n",
        "  if i.find('제주') == -1:\n",
        "    inland += data['값'][idx]\n",
        "  else :\n",
        "    jeju += data['값'][idx]\n",
        "  idx += 1\n",
        "\n",
        "print(inland, jeju)\n",
        "\n",
        "route_data = [inland, jeju]"
      ],
      "execution_count": 29,
      "outputs": [
        {
          "output_type": "stream",
          "name": "stdout",
          "text": [
            "6118 6368\n"
          ]
        }
      ]
    },
    {
      "cell_type": "code",
      "metadata": {
        "colab": {
          "base_uri": "https://localhost:8080/",
          "height": 281
        },
        "id": "5ZP3X5Ax6Oar",
        "outputId": "5bd11232-1245-46c8-fe49-7bf124d03165"
      },
      "source": [
        "label = ['Inland', 'Jeju']\n",
        "x = np.arange(2)\n",
        "\n",
        "plt.bar(x, route_data)\n",
        "plt.xticks(x, label)\n",
        "plt.title('Air Route')\n",
        "\n",
        "plt.show()"
      ],
      "execution_count": 32,
      "outputs": [
        {
          "output_type": "display_data",
          "data": {
            "image/png": "[encoded data removed]",
            "text/plain": [
              "<Figure size 432x288 with 1 Axes>"
            ]
          },
          "metadata": {
            "needs_background": "light"
          }
        }
      ]
    }
  ]
}