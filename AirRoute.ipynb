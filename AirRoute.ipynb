{
  "nbformat": 4,
  "nbformat_minor": 0,
  "metadata": {
    "colab": {
      "name": "AirRoute",
      "provenance": [],
      "collapsed_sections": [],
      "authorship_tag": "ABX9TyP3AXs8Uz6IxJpO2v6dFAzD",
      "include_colab_link": true
    },
    "kernelspec": {
      "name": "python3",
      "display_name": "Python 3"
    },
    "language_info": {
      "name": "python"
    }
  },
  "cells": [
    {
      "cell_type": "markdown",
      "metadata": {
        "id": "view-in-github",
        "colab_type": "text"
      },
      "source": [
        "<a href=\"https://colab.research.google.com/github/KxxHyoRim/Data-Mining/blob/main/AirRoute.ipynb\" target=\"_parent\"><img src=\"https://colab.research.google.com/assets/colab-badge.svg\" alt=\"Open In Colab\"/></a>"
      ]
    },
    {
      "cell_type": "code",
      "metadata": {
        "id": "Dd3Y_ZdQ3P9y"
      },
      "source": [
        "import pandas as pd\n",
        "import numpy as np\n",
        "import matplotlib.pyplot as plt\n",
        "# from keras.callbacks import TensorBoard, ModelCheckpoint, ReduceLROnPlateau\n",
        "import datetime"
      ],
      "execution_count": null,
      "outputs": []
    },
    {
      "cell_type": "markdown",
      "metadata": {
        "id": "Hj6mwpknCkcq"
      },
      "source": [
        "## 구글 드라이브 사용 권한 부여"
      ]
    },
    {
      "cell_type": "code",
      "metadata": {
        "colab": {
          "base_uri": "https://localhost:8080/"
        },
        "id": "jAELbvDj3VHv",
        "outputId": "930b1718-c264-43e1-fa4e-10c0e5ff632b"
      },
      "source": [
        "from google.colab import drive\n",
        "drive.mount('/content/drive')"
      ],
      "execution_count": null,
      "outputs": [
        {
          "output_type": "stream",
          "name": "stdout",
          "text": [
            "Drive already mounted at /content/drive; to attempt to forcibly remount, call drive.mount(\"/content/drive\", force_remount=True).\n"
          ]
        }
      ]
    },
    {
      "cell_type": "markdown",
      "metadata": {
        "id": "DQhMtXyVCpKZ"
      },
      "source": [
        "## 구글 드라이브에서 csv 파일 로드"
      ]
    },
    {
      "cell_type": "code",
      "metadata": {
        "colab": {
          "base_uri": "https://localhost:8080/",
          "height": 206
        },
        "id": "DX6HrBW73dMK",
        "outputId": "97ad7cc3-51d4-42c7-ea3b-bccdc1b0bc06"
      },
      "source": [
        "#불러올 파일의 경로를 filename 변수에 저장\n",
        "filename = '/content/drive/My Drive/Data Mining/항공통계.csv'\n",
        "\n",
        "#pandas read_csv로 불러오기\n",
        "data = pd.read_csv(filename, encoding='cp949') # encoding : 한글 로딩 위함\n",
        "data.head()"
      ],
      "execution_count": null,
      "outputs": [
        {
          "output_type": "execute_result",
          "data": {
            "text/html": [
              "<div>\n",
              "<style scoped>\n",
              "    .dataframe tbody tr th:only-of-type {\n",
              "        vertical-align: middle;\n",
              "    }\n",
              "\n",
              "    .dataframe tbody tr th {\n",
              "        vertical-align: top;\n",
              "    }\n",
              "\n",
              "    .dataframe thead th {\n",
              "        text-align: right;\n",
              "    }\n",
              "</style>\n",
              "<table border=\"1\" class=\"dataframe\">\n",
              "  <thead>\n",
              "    <tr style=\"text-align: right;\">\n",
              "      <th></th>\n",
              "      <th>항공노선</th>\n",
              "      <th>LEVEL1</th>\n",
              "      <th>값</th>\n",
              "      <th>년(Annual)</th>\n",
              "      <th>증감</th>\n",
              "      <th>증감율</th>\n",
              "      <th>구성비</th>\n",
              "      <th>누계</th>\n",
              "      <th>누계구성비</th>\n",
              "    </tr>\n",
              "  </thead>\n",
              "  <tbody>\n",
              "    <tr>\n",
              "      <th>0</th>\n",
              "      <td>김포-김해</td>\n",
              "      <td>계</td>\n",
              "      <td>273</td>\n",
              "      <td>2020</td>\n",
              "      <td>273</td>\n",
              "      <td>273</td>\n",
              "      <td>0</td>\n",
              "      <td>0</td>\n",
              "      <td>0</td>\n",
              "    </tr>\n",
              "    <tr>\n",
              "      <th>1</th>\n",
              "      <td>김포-김해</td>\n",
              "      <td>대한항공</td>\n",
              "      <td>63</td>\n",
              "      <td>2020</td>\n",
              "      <td>63</td>\n",
              "      <td>63</td>\n",
              "      <td>0</td>\n",
              "      <td>0</td>\n",
              "      <td>0</td>\n",
              "    </tr>\n",
              "    <tr>\n",
              "      <th>2</th>\n",
              "      <td>김포-김해</td>\n",
              "      <td>아시아나항공</td>\n",
              "      <td>0</td>\n",
              "      <td>2020</td>\n",
              "      <td>0</td>\n",
              "      <td>0</td>\n",
              "      <td>0</td>\n",
              "      <td>0</td>\n",
              "      <td>0</td>\n",
              "    </tr>\n",
              "    <tr>\n",
              "      <th>3</th>\n",
              "      <td>김포-김해</td>\n",
              "      <td>제주항공</td>\n",
              "      <td>43</td>\n",
              "      <td>2020</td>\n",
              "      <td>43</td>\n",
              "      <td>43</td>\n",
              "      <td>0</td>\n",
              "      <td>0</td>\n",
              "      <td>0</td>\n",
              "    </tr>\n",
              "    <tr>\n",
              "      <th>4</th>\n",
              "      <td>김포-김해</td>\n",
              "      <td>진에어</td>\n",
              "      <td>56</td>\n",
              "      <td>2020</td>\n",
              "      <td>56</td>\n",
              "      <td>56</td>\n",
              "      <td>0</td>\n",
              "      <td>0</td>\n",
              "      <td>0</td>\n",
              "    </tr>\n",
              "  </tbody>\n",
              "</table>\n",
              "</div>"
            ],
            "text/plain": [
              "    항공노선  LEVEL1    값  년(Annual)   증감  증감율  구성비  누계  누계구성비\n",
              "0  김포-김해       계  273       2020  273  273    0   0      0\n",
              "1  김포-김해    대한항공   63       2020   63   63    0   0      0\n",
              "2  김포-김해  아시아나항공    0       2020    0    0    0   0      0\n",
              "3  김포-김해    제주항공   43       2020   43   43    0   0      0\n",
              "4  김포-김해     진에어   56       2020   56   56    0   0      0"
            ]
          },
          "metadata": {},
          "execution_count": 47
        }
      ]
    },
    {
      "cell_type": "markdown",
      "metadata": {
        "id": "IDH54n-HC-Ro"
      },
      "source": [
        "## 내륙라인 값 추출"
      ]
    },
    {
      "cell_type": "code",
      "metadata": {
        "colab": {
          "base_uri": "https://localhost:8080/",
          "height": 81
        },
        "id": "Tr8_iphf36Ai",
        "outputId": "91d0e0bf-5cdd-4e4c-9375-3d3b871632cb"
      },
      "source": [
        "is_inline = data['항공노선'] == '내륙소계'  # '항공노선' column의 값이 '내륙소계'인가\n",
        "is_inline_sum = data['LEVEL1'] == '계'      # 'LEVEL1' column의 값이 '계'인가\n",
        "\n",
        "inline = data[is_inline & is_inline_sum]    # 두 조건을 만족하는 행\n",
        "inline.head()"
      ],
      "execution_count": null,
      "outputs": [
        {
          "output_type": "execute_result",
          "data": {
            "text/html": [
              "<div>\n",
              "<style scoped>\n",
              "    .dataframe tbody tr th:only-of-type {\n",
              "        vertical-align: middle;\n",
              "    }\n",
              "\n",
              "    .dataframe tbody tr th {\n",
              "        vertical-align: top;\n",
              "    }\n",
              "\n",
              "    .dataframe thead th {\n",
              "        text-align: right;\n",
              "    }\n",
              "</style>\n",
              "<table border=\"1\" class=\"dataframe\">\n",
              "  <thead>\n",
              "    <tr style=\"text-align: right;\">\n",
              "      <th></th>\n",
              "      <th>항공노선</th>\n",
              "      <th>LEVEL1</th>\n",
              "      <th>값</th>\n",
              "      <th>년(Annual)</th>\n",
              "      <th>증감</th>\n",
              "      <th>증감율</th>\n",
              "      <th>구성비</th>\n",
              "      <th>누계</th>\n",
              "      <th>누계구성비</th>\n",
              "    </tr>\n",
              "  </thead>\n",
              "  <tbody>\n",
              "    <tr>\n",
              "      <th>130</th>\n",
              "      <td>내륙소계</td>\n",
              "      <td>계</td>\n",
              "      <td>489</td>\n",
              "      <td>2020</td>\n",
              "      <td>489</td>\n",
              "      <td>489</td>\n",
              "      <td>0</td>\n",
              "      <td>0</td>\n",
              "      <td>0</td>\n",
              "    </tr>\n",
              "  </tbody>\n",
              "</table>\n",
              "</div>"
            ],
            "text/plain": [
              "     항공노선 LEVEL1    값  년(Annual)   증감  증감율  구성비  누계  누계구성비\n",
              "130  내륙소계      계  489       2020  489  489    0   0      0"
            ]
          },
          "metadata": {},
          "execution_count": 88
        }
      ]
    },
    {
      "cell_type": "markdown",
      "metadata": {
        "id": "pUxr2pJlCvpf"
      },
      "source": [
        "## 제주라인 값 추출"
      ]
    },
    {
      "cell_type": "code",
      "metadata": {
        "colab": {
          "base_uri": "https://localhost:8080/",
          "height": 81
        },
        "id": "odcFHS0EDaXy",
        "outputId": "cfcf2130-78a0-4a0c-938c-c18bb2c49046"
      },
      "source": [
        "is_jeju = data['항공노선'] == '제주소계'  # '항공노선' column의 값이 '제주소계'인가\n",
        "is_jeju_sum = data['LEVEL1'] == '계'      # 'LEVEL1' column의 값이 '계'인가\n",
        "\n",
        "jeju = data[is_jeju & is_jeju_sum]        # 두 조건을 만족하는 행 추출\n",
        "jeju.head()"
      ],
      "execution_count": null,
      "outputs": [
        {
          "output_type": "execute_result",
          "data": {
            "text/html": [
              "<div>\n",
              "<style scoped>\n",
              "    .dataframe tbody tr th:only-of-type {\n",
              "        vertical-align: middle;\n",
              "    }\n",
              "\n",
              "    .dataframe tbody tr th {\n",
              "        vertical-align: top;\n",
              "    }\n",
              "\n",
              "    .dataframe thead th {\n",
              "        text-align: right;\n",
              "    }\n",
              "</style>\n",
              "<table border=\"1\" class=\"dataframe\">\n",
              "  <thead>\n",
              "    <tr style=\"text-align: right;\">\n",
              "      <th></th>\n",
              "      <th>항공노선</th>\n",
              "      <th>LEVEL1</th>\n",
              "      <th>값</th>\n",
              "      <th>년(Annual)</th>\n",
              "      <th>증감</th>\n",
              "      <th>증감율</th>\n",
              "      <th>구성비</th>\n",
              "      <th>누계</th>\n",
              "      <th>누계구성비</th>\n",
              "    </tr>\n",
              "  </thead>\n",
              "  <tbody>\n",
              "    <tr>\n",
              "      <th>280</th>\n",
              "      <td>제주소계</td>\n",
              "      <td>계</td>\n",
              "      <td>1592</td>\n",
              "      <td>2020</td>\n",
              "      <td>1592</td>\n",
              "      <td>1592</td>\n",
              "      <td>0</td>\n",
              "      <td>0</td>\n",
              "      <td>0</td>\n",
              "    </tr>\n",
              "  </tbody>\n",
              "</table>\n",
              "</div>"
            ],
            "text/plain": [
              "     항공노선 LEVEL1     값  년(Annual)    증감   증감율  구성비  누계  누계구성비\n",
              "280  제주소계      계  1592       2020  1592  1592    0   0      0"
            ]
          },
          "metadata": {},
          "execution_count": 89
        }
      ]
    },
    {
      "cell_type": "code",
      "metadata": {
        "colab": {
          "base_uri": "https://localhost:8080/",
          "height": 318
        },
        "id": "5ZP3X5Ax6Oar",
        "outputId": "80c99caa-03aa-4935-bf95-9b6254515f42"
      },
      "source": [
        "inline_val = inline['값'].reset_index(drop = True)[0]\n",
        "print(\"내륙라인\", inline_val)\n",
        "\n",
        "jeju_val = jeju['값'].reset_index(drop = True)[0]\n",
        "print(\"제주라인\", jeju_val)\n",
        "\n",
        "route_data = [inline_val, jeju_val]\n",
        "label = ['Inland', 'Jeju']\n",
        "x = np.arange(2)\n",
        "\n",
        "plt.bar(x, route_data)\n",
        "plt.xticks(x, label)\n",
        "plt.title('Air Route')\n",
        "\n",
        "plt.show()"
      ],
      "execution_count": null,
      "outputs": [
        {
          "output_type": "stream",
          "name": "stdout",
          "text": [
            "내륙라인 489\n",
            "제주라인 1592\n"
          ]
        },
        {
          "output_type": "display_data",
          "data": {
            "image/png": "[encoded data removed]",
            "text/plain": [
              "<Figure size 432x288 with 1 Axes>"
            ]
          },
          "metadata": {
            "needs_background": "light"
          }
        }
      ]
    }
  ]
}