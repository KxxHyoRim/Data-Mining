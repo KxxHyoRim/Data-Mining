{
  "nbformat": 4,
  "nbformat_minor": 0,
  "metadata": {
    "colab": {
      "name": "Midterm_Problem4.ipynb",
      "provenance": [],
      "collapsed_sections": [],
      "authorship_tag": "ABX9TyM9EGbJBww4TpTc+OZ1E8JE",
      "include_colab_link": true
    },
    "kernelspec": {
      "name": "python3",
      "display_name": "Python 3"
    },
    "language_info": {
      "name": "python"
    }
  },
  "cells": [
    {
      "cell_type": "markdown",
      "metadata": {
        "id": "view-in-github",
        "colab_type": "text"
      },
      "source": [
        "<a href=\"https://colab.research.google.com/github/KxxHyoRim/Data-Mining/blob/main/Midterm_Problem4.ipynb\" target=\"_parent\"><img src=\"https://colab.research.google.com/assets/colab-badge.svg\" alt=\"Open In Colab\"/></a>"
      ]
    },
    {
      "cell_type": "code",
      "metadata": {
        "colab": {
          "base_uri": "https://localhost:8080/",
          "height": 160
        },
        "id": "8e9etapLxcL2",
        "outputId": "57f3a850-39c8-48fd-b2a0-196de1a97f7c"
      },
      "source": [
        "import pandas as pd\n",
        "import numpy as np\n",
        "import matplotlib.pyplot as plt\n",
        "from google.colab import drive\n",
        "from sklearn.neighbors import KNeighborsClassifier\n",
        "\n",
        "#불러올 파일의 경로를 filename 변수에 저장\n",
        "drive.mount('/content/drive')\n",
        "file_name = '/content/drive/My Drive/Data Mining/park.csv'\n",
        "\n",
        "#pandas read_csv로 불러오기\n",
        "#같은 directory 레벨에 있는 csv 읽어옴\n",
        "df = pd.read_csv(file_name, encoding='cp949')\n",
        "# print(df.shape)\n",
        "df.head(3)\n"
      ],
      "execution_count": null,
      "outputs": [
        {
          "output_type": "stream",
          "name": "stdout",
          "text": [
            "Drive already mounted at /content/drive; to attempt to forcibly remount, call drive.mount(\"/content/drive\", force_remount=True).\n"
          ]
        },
        {
          "output_type": "execute_result",
          "data": {
            "text/html": [
              "<div>\n",
              "<style scoped>\n",
              "    .dataframe tbody tr th:only-of-type {\n",
              "        vertical-align: middle;\n",
              "    }\n",
              "\n",
              "    .dataframe tbody tr th {\n",
              "        vertical-align: top;\n",
              "    }\n",
              "\n",
              "    .dataframe thead th {\n",
              "        text-align: right;\n",
              "    }\n",
              "</style>\n",
              "<table border=\"1\" class=\"dataframe\">\n",
              "  <thead>\n",
              "    <tr style=\"text-align: right;\">\n",
              "      <th></th>\n",
              "      <th>년도</th>\n",
              "      <th>구분</th>\n",
              "      <th>일반이용자</th>\n",
              "      <th>운동시설</th>\n",
              "      <th>자전거</th>\n",
              "    </tr>\n",
              "  </thead>\n",
              "  <tbody>\n",
              "    <tr>\n",
              "      <th>0</th>\n",
              "      <td>2009년</td>\n",
              "      <td>광나루</td>\n",
              "      <td>1374424</td>\n",
              "      <td>157913</td>\n",
              "      <td>396165</td>\n",
              "    </tr>\n",
              "    <tr>\n",
              "      <th>1</th>\n",
              "      <td>2009년</td>\n",
              "      <td>잠실</td>\n",
              "      <td>1860362</td>\n",
              "      <td>69587</td>\n",
              "      <td>481561</td>\n",
              "    </tr>\n",
              "    <tr>\n",
              "      <th>2</th>\n",
              "      <td>2009년</td>\n",
              "      <td>뚝섬</td>\n",
              "      <td>1957592</td>\n",
              "      <td>49270</td>\n",
              "      <td>679795</td>\n",
              "    </tr>\n",
              "  </tbody>\n",
              "</table>\n",
              "</div>"
            ],
            "text/plain": [
              "      년도   구분    일반이용자    운동시설     자전거\n",
              "0  2009년  광나루  1374424  157913  396165\n",
              "1  2009년   잠실  1860362   69587  481561\n",
              "2  2009년   뚝섬  1957592   49270  679795"
            ]
          },
          "metadata": {},
          "execution_count": 2
        }
      ]
    },
    {
      "cell_type": "code",
      "metadata": {
        "colab": {
          "base_uri": "https://localhost:8080/"
        },
        "id": "8DenCIPtyMEr",
        "outputId": "89f0f0e7-bc9a-4e76-f262-7099ef871c75"
      },
      "source": [
        "df['구분'].value_counts()"
      ],
      "execution_count": null,
      "outputs": [
        {
          "output_type": "execute_result",
          "data": {
            "text/plain": [
              "잠원     5\n",
              "난지     5\n",
              "이촌     5\n",
              "망원     5\n",
              "양화     5\n",
              "광나루    5\n",
              "여의도    5\n",
              "반포     5\n",
              "잠실     5\n",
              "강서     5\n",
              "뚝섬     5\n",
              "Name: 구분, dtype: int64"
            ]
          },
          "metadata": {},
          "execution_count": 3
        }
      ]
    },
    {
      "cell_type": "code",
      "metadata": {
        "colab": {
          "base_uri": "https://localhost:8080/"
        },
        "id": "0jYmjfqMze0I",
        "outputId": "dbd22289-92ed-47c7-f0cf-85f29bc1c6cb"
      },
      "source": [
        "\n",
        "std_data = [[n, e, b] for n, e, b in zip(df['일반이용자'], df['운동시설'], df['자전거'])]  # feature (독립변수)\n",
        "std_target = df['구분']                                      # target  (종속변수)\n",
        "\n",
        "\n",
        "# 특정값 예측\n",
        "kn = KNeighborsClassifier(n_neighbors = 1)\n",
        "kn.fit(std_data, std_target)\n",
        "kn.score(std_data, std_target)\n",
        "kn.predict([[1500000, 20000,500000]])"
      ],
      "execution_count": null,
      "outputs": [
        {
          "output_type": "execute_result",
          "data": {
            "text/plain": [
              "array(['잠실'], dtype=object)"
            ]
          },
          "metadata": {},
          "execution_count": 10
        }
      ]
    }
  ]
}