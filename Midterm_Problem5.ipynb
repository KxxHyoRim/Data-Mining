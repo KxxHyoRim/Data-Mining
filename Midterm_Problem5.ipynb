{
  "nbformat": 4,
  "nbformat_minor": 0,
  "metadata": {
    "colab": {
      "name": "Midterm_Problem5.ipynb",
      "provenance": [],
      "collapsed_sections": [],
      "authorship_tag": "ABX9TyMOvlf2yXrz+47q4FMGVkYR",
      "include_colab_link": true
    },
    "kernelspec": {
      "name": "python3",
      "display_name": "Python 3"
    },
    "language_info": {
      "name": "python"
    }
  },
  "cells": [
    {
      "cell_type": "markdown",
      "metadata": {
        "id": "view-in-github",
        "colab_type": "text"
      },
      "source": [
        "<a href=\"https://colab.research.google.com/github/KxxHyoRim/Data-Mining/blob/main/Midterm_Problem5.ipynb\" target=\"_parent\"><img src=\"https://colab.research.google.com/assets/colab-badge.svg\" alt=\"Open In Colab\"/></a>"
      ]
    },
    {
      "cell_type": "code",
      "metadata": {
        "colab": {
          "base_uri": "https://localhost:8080/",
          "height": 160
        },
        "id": "rvy3dErN08kh",
        "outputId": "29722c79-69e1-40cf-dbff-84aa0e608b36"
      },
      "source": [
        "import pandas as pd\n",
        "import numpy as np\n",
        "import matplotlib.pyplot as plt\n",
        "from google.colab import drive\n",
        "\n",
        "#불러올 파일의 경로를 filename 변수에 저장\n",
        "drive.mount('/content/drive')\n",
        "file_name = '/content/drive/My Drive/Data Mining/housing.csv'\n",
        "\n",
        "#pandas read_csv로 불러오기\n",
        "#같은 directory 레벨에 있는 csv 읽어옴\n",
        "df = pd.read_csv(file_name, encoding='cp949')\n",
        "# print(df.shape)\n",
        "df.head(3)\n"
      ],
      "execution_count": null,
      "outputs": [
        {
          "output_type": "stream",
          "name": "stdout",
          "text": [
            "Mounted at /content/drive\n"
          ]
        },
        {
          "output_type": "execute_result",
          "data": {
            "text/html": [
              "<div>\n",
              "<style scoped>\n",
              "    .dataframe tbody tr th:only-of-type {\n",
              "        vertical-align: middle;\n",
              "    }\n",
              "\n",
              "    .dataframe tbody tr th {\n",
              "        vertical-align: top;\n",
              "    }\n",
              "\n",
              "    .dataframe thead th {\n",
              "        text-align: right;\n",
              "    }\n",
              "</style>\n",
              "<table border=\"1\" class=\"dataframe\">\n",
              "  <thead>\n",
              "    <tr style=\"text-align: right;\">\n",
              "      <th></th>\n",
              "      <th>건물면적</th>\n",
              "      <th>층수</th>\n",
              "      <th>건물주용도코드</th>\n",
              "      <th>건물주용도</th>\n",
              "      <th>가격</th>\n",
              "    </tr>\n",
              "  </thead>\n",
              "  <tbody>\n",
              "    <tr>\n",
              "      <th>0</th>\n",
              "      <td>58.77</td>\n",
              "      <td>2</td>\n",
              "      <td>2001</td>\n",
              "      <td>아파트</td>\n",
              "      <td>198000000</td>\n",
              "    </tr>\n",
              "    <tr>\n",
              "      <th>1</th>\n",
              "      <td>49.77</td>\n",
              "      <td>14</td>\n",
              "      <td>2001</td>\n",
              "      <td>아파트</td>\n",
              "      <td>182000000</td>\n",
              "    </tr>\n",
              "    <tr>\n",
              "      <th>2</th>\n",
              "      <td>59.84</td>\n",
              "      <td>8</td>\n",
              "      <td>2001</td>\n",
              "      <td>아파트</td>\n",
              "      <td>570000000</td>\n",
              "    </tr>\n",
              "  </tbody>\n",
              "</table>\n",
              "</div>"
            ],
            "text/plain": [
              "    건물면적  층수  건물주용도코드 건물주용도         가격\n",
              "0  58.77   2     2001   아파트  198000000\n",
              "1  49.77  14     2001   아파트  182000000\n",
              "2  59.84   8     2001   아파트  570000000"
            ]
          },
          "metadata": {},
          "execution_count": 1
        }
      ]
    },
    {
      "cell_type": "code",
      "metadata": {
        "colab": {
          "base_uri": "https://localhost:8080/"
        },
        "id": "pHaAOrcf1jTi",
        "outputId": "7192219f-827a-48cd-a0b8-266fb91442ed"
      },
      "source": [
        "df['층수'].describe()"
      ],
      "execution_count": null,
      "outputs": [
        {
          "output_type": "execute_result",
          "data": {
            "text/plain": [
              "count    120.000000\n",
              "mean       9.633333\n",
              "std        6.149309\n",
              "min        1.000000\n",
              "25%        4.000000\n",
              "50%        8.500000\n",
              "75%       14.000000\n",
              "max       26.000000\n",
              "Name: 층수, dtype: float64"
            ]
          },
          "metadata": {},
          "execution_count": 3
        }
      ]
    },
    {
      "cell_type": "code",
      "metadata": {
        "colab": {
          "base_uri": "https://localhost:8080/"
        },
        "id": "fQdjS7nA1r02",
        "outputId": "2bec4a86-07e4-4381-b4f6-c918433de297"
      },
      "source": [
        "df['가격'].describe()"
      ],
      "execution_count": null,
      "outputs": [
        {
          "output_type": "execute_result",
          "data": {
            "text/plain": [
              "count    1.200000e+02\n",
              "mean     2.955625e+08\n",
              "std      1.067899e+08\n",
              "min      9.800000e+07\n",
              "25%      2.067500e+08\n",
              "50%      2.897500e+08\n",
              "75%      3.686250e+08\n",
              "max      5.700000e+08\n",
              "Name: 가격, dtype: float64"
            ]
          },
          "metadata": {},
          "execution_count": 4
        }
      ]
    },
    {
      "cell_type": "code",
      "metadata": {
        "colab": {
          "base_uri": "https://localhost:8080/",
          "height": 621
        },
        "id": "CHN_NFW51xZO",
        "outputId": "8cc41cb9-9721-433d-b2c6-df6bced59214"
      },
      "source": [
        "import seaborn as sns\n",
        "\n",
        "plt.figure(figsize=(10,10)) # 그래프 사이즈 지정\n",
        "# sns.regplot(df['층수'], df['가격'], fit_reg=True)\n",
        "plt.scatter(df['층수'], df['가격'])  \n",
        "plt.title('Problem5')\n",
        "plt.xlabel('# of floors') \n",
        "plt.ylabel('Prices')\n",
        "plt.show()\n"
      ],
      "execution_count": null,
      "outputs": [
        {
          "output_type": "display_data",
          "data": {
            "image/png": "[encoded data removed]",
            "text/plain": [
              "<Figure size 720x720 with 1 Axes>"
            ]
          },
          "metadata": {
            "needs_background": "light"
          }
        }
      ]
    },
    {
      "cell_type": "code",
      "metadata": {
        "colab": {
          "base_uri": "https://localhost:8080/",
          "height": 419
        },
        "id": "1icAGhvm2sPq",
        "outputId": "d9116b3a-655e-4e27-8f08-cfd30f397942"
      },
      "source": [
        "floors = pd.DataFrame(df['층수'], columns=['층수'])\n",
        "concat_df = pd.concat([floors, df['가격']], axis = 1)\n",
        "concat_df\n"
      ],
      "execution_count": null,
      "outputs": [
        {
          "output_type": "execute_result",
          "data": {
            "text/html": [
              "<div>\n",
              "<style scoped>\n",
              "    .dataframe tbody tr th:only-of-type {\n",
              "        vertical-align: middle;\n",
              "    }\n",
              "\n",
              "    .dataframe tbody tr th {\n",
              "        vertical-align: top;\n",
              "    }\n",
              "\n",
              "    .dataframe thead th {\n",
              "        text-align: right;\n",
              "    }\n",
              "</style>\n",
              "<table border=\"1\" class=\"dataframe\">\n",
              "  <thead>\n",
              "    <tr style=\"text-align: right;\">\n",
              "      <th></th>\n",
              "      <th>층수</th>\n",
              "      <th>가격</th>\n",
              "    </tr>\n",
              "  </thead>\n",
              "  <tbody>\n",
              "    <tr>\n",
              "      <th>0</th>\n",
              "      <td>2</td>\n",
              "      <td>198000000</td>\n",
              "    </tr>\n",
              "    <tr>\n",
              "      <th>1</th>\n",
              "      <td>14</td>\n",
              "      <td>182000000</td>\n",
              "    </tr>\n",
              "    <tr>\n",
              "      <th>2</th>\n",
              "      <td>8</td>\n",
              "      <td>570000000</td>\n",
              "    </tr>\n",
              "    <tr>\n",
              "      <th>3</th>\n",
              "      <td>7</td>\n",
              "      <td>330000000</td>\n",
              "    </tr>\n",
              "    <tr>\n",
              "      <th>4</th>\n",
              "      <td>16</td>\n",
              "      <td>312000000</td>\n",
              "    </tr>\n",
              "    <tr>\n",
              "      <th>...</th>\n",
              "      <td>...</td>\n",
              "      <td>...</td>\n",
              "    </tr>\n",
              "    <tr>\n",
              "      <th>115</th>\n",
              "      <td>2</td>\n",
              "      <td>400000000</td>\n",
              "    </tr>\n",
              "    <tr>\n",
              "      <th>116</th>\n",
              "      <td>17</td>\n",
              "      <td>287000000</td>\n",
              "    </tr>\n",
              "    <tr>\n",
              "      <th>117</th>\n",
              "      <td>8</td>\n",
              "      <td>132000000</td>\n",
              "    </tr>\n",
              "    <tr>\n",
              "      <th>118</th>\n",
              "      <td>3</td>\n",
              "      <td>408000000</td>\n",
              "    </tr>\n",
              "    <tr>\n",
              "      <th>119</th>\n",
              "      <td>10</td>\n",
              "      <td>267000000</td>\n",
              "    </tr>\n",
              "  </tbody>\n",
              "</table>\n",
              "<p>120 rows × 2 columns</p>\n",
              "</div>"
            ],
            "text/plain": [
              "     층수         가격\n",
              "0     2  198000000\n",
              "1    14  182000000\n",
              "2     8  570000000\n",
              "3     7  330000000\n",
              "4    16  312000000\n",
              "..   ..        ...\n",
              "115   2  400000000\n",
              "116  17  287000000\n",
              "117   8  132000000\n",
              "118   3  408000000\n",
              "119  10  267000000\n",
              "\n",
              "[120 rows x 2 columns]"
            ]
          },
          "metadata": {},
          "execution_count": 11
        }
      ]
    },
    {
      "cell_type": "code",
      "metadata": {
        "colab": {
          "base_uri": "https://localhost:8080/",
          "height": 111
        },
        "id": "0spzBSrf3SjH",
        "outputId": "0e53ac82-b79e-4b36-84d6-8b6285124455"
      },
      "source": [
        "concat_df.corr()"
      ],
      "execution_count": null,
      "outputs": [
        {
          "output_type": "execute_result",
          "data": {
            "text/html": [
              "<div>\n",
              "<style scoped>\n",
              "    .dataframe tbody tr th:only-of-type {\n",
              "        vertical-align: middle;\n",
              "    }\n",
              "\n",
              "    .dataframe tbody tr th {\n",
              "        vertical-align: top;\n",
              "    }\n",
              "\n",
              "    .dataframe thead th {\n",
              "        text-align: right;\n",
              "    }\n",
              "</style>\n",
              "<table border=\"1\" class=\"dataframe\">\n",
              "  <thead>\n",
              "    <tr style=\"text-align: right;\">\n",
              "      <th></th>\n",
              "      <th>층수</th>\n",
              "      <th>가격</th>\n",
              "    </tr>\n",
              "  </thead>\n",
              "  <tbody>\n",
              "    <tr>\n",
              "      <th>층수</th>\n",
              "      <td>1.00000</td>\n",
              "      <td>0.26053</td>\n",
              "    </tr>\n",
              "    <tr>\n",
              "      <th>가격</th>\n",
              "      <td>0.26053</td>\n",
              "      <td>1.00000</td>\n",
              "    </tr>\n",
              "  </tbody>\n",
              "</table>\n",
              "</div>"
            ],
            "text/plain": [
              "         층수       가격\n",
              "층수  1.00000  0.26053\n",
              "가격  0.26053  1.00000"
            ]
          },
          "metadata": {},
          "execution_count": 12
        }
      ]
    }
  ]
}